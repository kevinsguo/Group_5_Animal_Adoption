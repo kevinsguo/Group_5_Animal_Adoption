{
 "cells": [
  {
   "cell_type": "code",
   "execution_count": 1,
   "id": "36679114",
   "metadata": {},
   "outputs": [],
   "source": [
    "import pandas as pd\n",
    "import numpy as np\n",
    "import matplotlib as plt\n",
    "import seaborn as sns"
   ]
  },
  {
   "cell_type": "code",
   "execution_count": 2,
   "id": "0557617f",
   "metadata": {},
   "outputs": [],
   "source": [
    "df=pd.read_csv('all_records.csv')"
   ]
  },
  {
   "cell_type": "markdown",
   "id": "6a2bf860",
   "metadata": {},
   "source": [
    "## Preprocessing"
   ]
  },
  {
   "cell_type": "code",
   "execution_count": 3,
   "id": "870f96df",
   "metadata": {},
   "outputs": [
    {
     "data": {
      "text/html": [
       "<div>\n",
       "<style scoped>\n",
       "    .dataframe tbody tr th:only-of-type {\n",
       "        vertical-align: middle;\n",
       "    }\n",
       "\n",
       "    .dataframe tbody tr th {\n",
       "        vertical-align: top;\n",
       "    }\n",
       "\n",
       "    .dataframe thead th {\n",
       "        text-align: right;\n",
       "    }\n",
       "</style>\n",
       "<table border=\"1\" class=\"dataframe\">\n",
       "  <thead>\n",
       "    <tr style=\"text-align: right;\">\n",
       "      <th></th>\n",
       "      <th>Unnamed: 0</th>\n",
       "      <th>Animal ID</th>\n",
       "      <th>Name_intake</th>\n",
       "      <th>DateTime_intake</th>\n",
       "      <th>MonthYear_intake</th>\n",
       "      <th>Found_Location</th>\n",
       "      <th>Intake_Type</th>\n",
       "      <th>IntakeCondition</th>\n",
       "      <th>Animal_Type_intake</th>\n",
       "      <th>Sex</th>\n",
       "      <th>...</th>\n",
       "      <th>beagle</th>\n",
       "      <th>terrier</th>\n",
       "      <th>boxer</th>\n",
       "      <th>poodle</th>\n",
       "      <th>rottweiler</th>\n",
       "      <th>dachshund</th>\n",
       "      <th>chihuahua</th>\n",
       "      <th>pit bull</th>\n",
       "      <th>DateTime_length</th>\n",
       "      <th>Days_length</th>\n",
       "    </tr>\n",
       "  </thead>\n",
       "  <tbody>\n",
       "    <tr>\n",
       "      <th>0</th>\n",
       "      <td>0</td>\n",
       "      <td>A730601</td>\n",
       "      <td>NaN</td>\n",
       "      <td>2016-07-07 12:11:00</td>\n",
       "      <td>07/07/2016 12:11:00 PM</td>\n",
       "      <td>1109 Shady Ln in Austin (TX)</td>\n",
       "      <td>Stray</td>\n",
       "      <td>Normal</td>\n",
       "      <td>Cat</td>\n",
       "      <td>Intact Male</td>\n",
       "      <td>...</td>\n",
       "      <td>0</td>\n",
       "      <td>0</td>\n",
       "      <td>0</td>\n",
       "      <td>0</td>\n",
       "      <td>0</td>\n",
       "      <td>0</td>\n",
       "      <td>0</td>\n",
       "      <td>0</td>\n",
       "      <td>0 days 20:49:00.000000000</td>\n",
       "      <td>0-7 days</td>\n",
       "    </tr>\n",
       "    <tr>\n",
       "      <th>1</th>\n",
       "      <td>1</td>\n",
       "      <td>A683644</td>\n",
       "      <td>*Zoey</td>\n",
       "      <td>2014-07-13 11:02:00</td>\n",
       "      <td>07/13/2014 11:02:00 AM</td>\n",
       "      <td>Austin (TX)</td>\n",
       "      <td>Owner Surrender</td>\n",
       "      <td>Nursing</td>\n",
       "      <td>Dog</td>\n",
       "      <td>Intact Female</td>\n",
       "      <td>...</td>\n",
       "      <td>0</td>\n",
       "      <td>0</td>\n",
       "      <td>0</td>\n",
       "      <td>0</td>\n",
       "      <td>0</td>\n",
       "      <td>0</td>\n",
       "      <td>0</td>\n",
       "      <td>0</td>\n",
       "      <td>115 days 23:04:00.000000000</td>\n",
       "      <td>12 weeks - 6 months</td>\n",
       "    </tr>\n",
       "    <tr>\n",
       "      <th>2</th>\n",
       "      <td>2</td>\n",
       "      <td>A676515</td>\n",
       "      <td>Rico</td>\n",
       "      <td>2014-04-11 08:45:00</td>\n",
       "      <td>04/11/2014 08:45:00 AM</td>\n",
       "      <td>615 E. Wonsley in Austin (TX)</td>\n",
       "      <td>Stray</td>\n",
       "      <td>Normal</td>\n",
       "      <td>Dog</td>\n",
       "      <td>Intact Male</td>\n",
       "      <td>...</td>\n",
       "      <td>0</td>\n",
       "      <td>0</td>\n",
       "      <td>0</td>\n",
       "      <td>0</td>\n",
       "      <td>0</td>\n",
       "      <td>0</td>\n",
       "      <td>0</td>\n",
       "      <td>1</td>\n",
       "      <td>3 days 09:53:00.000000000</td>\n",
       "      <td>0-7 days</td>\n",
       "    </tr>\n",
       "    <tr>\n",
       "      <th>3</th>\n",
       "      <td>3</td>\n",
       "      <td>A742953</td>\n",
       "      <td>NaN</td>\n",
       "      <td>2017-01-31 13:30:00</td>\n",
       "      <td>01/31/2017 01:30:00 PM</td>\n",
       "      <td>S Hwy 183 And Thompson Lane in Austin (TX)</td>\n",
       "      <td>Stray</td>\n",
       "      <td>Normal</td>\n",
       "      <td>Dog</td>\n",
       "      <td>Intact Male</td>\n",
       "      <td>...</td>\n",
       "      <td>0</td>\n",
       "      <td>0</td>\n",
       "      <td>0</td>\n",
       "      <td>0</td>\n",
       "      <td>0</td>\n",
       "      <td>0</td>\n",
       "      <td>0</td>\n",
       "      <td>0</td>\n",
       "      <td>4 days 00:47:00.000000000</td>\n",
       "      <td>0-7 days</td>\n",
       "    </tr>\n",
       "    <tr>\n",
       "      <th>4</th>\n",
       "      <td>4</td>\n",
       "      <td>A679549</td>\n",
       "      <td>*Gilbert</td>\n",
       "      <td>2014-05-22 15:43:00</td>\n",
       "      <td>05/22/2014 03:43:00 PM</td>\n",
       "      <td>124 W Anderson in Austin (TX)</td>\n",
       "      <td>Stray</td>\n",
       "      <td>Normal</td>\n",
       "      <td>Cat</td>\n",
       "      <td>Intact Male</td>\n",
       "      <td>...</td>\n",
       "      <td>0</td>\n",
       "      <td>0</td>\n",
       "      <td>0</td>\n",
       "      <td>0</td>\n",
       "      <td>0</td>\n",
       "      <td>0</td>\n",
       "      <td>0</td>\n",
       "      <td>0</td>\n",
       "      <td>24 days 22:11:00.000000000</td>\n",
       "      <td>3-6 weeks</td>\n",
       "    </tr>\n",
       "  </tbody>\n",
       "</table>\n",
       "<p>5 rows × 38 columns</p>\n",
       "</div>"
      ],
      "text/plain": [
       "   Unnamed: 0 Animal ID Name_intake      DateTime_intake  \\\n",
       "0           0   A730601         NaN  2016-07-07 12:11:00   \n",
       "1           1   A683644       *Zoey  2014-07-13 11:02:00   \n",
       "2           2   A676515        Rico  2014-04-11 08:45:00   \n",
       "3           3   A742953         NaN  2017-01-31 13:30:00   \n",
       "4           4   A679549    *Gilbert  2014-05-22 15:43:00   \n",
       "\n",
       "         MonthYear_intake                              Found_Location  \\\n",
       "0  07/07/2016 12:11:00 PM                1109 Shady Ln in Austin (TX)   \n",
       "1  07/13/2014 11:02:00 AM                                 Austin (TX)   \n",
       "2  04/11/2014 08:45:00 AM               615 E. Wonsley in Austin (TX)   \n",
       "3  01/31/2017 01:30:00 PM  S Hwy 183 And Thompson Lane in Austin (TX)   \n",
       "4  05/22/2014 03:43:00 PM               124 W Anderson in Austin (TX)   \n",
       "\n",
       "       Intake_Type IntakeCondition Animal_Type_intake            Sex  ...  \\\n",
       "0            Stray          Normal                Cat    Intact Male  ...   \n",
       "1  Owner Surrender         Nursing                Dog  Intact Female  ...   \n",
       "2            Stray          Normal                Dog    Intact Male  ...   \n",
       "3            Stray          Normal                Dog    Intact Male  ...   \n",
       "4            Stray          Normal                Cat    Intact Male  ...   \n",
       "\n",
       "  beagle terrier boxer poodle rottweiler dachshund chihuahua pit bull  \\\n",
       "0      0       0     0      0          0         0         0        0   \n",
       "1      0       0     0      0          0         0         0        0   \n",
       "2      0       0     0      0          0         0         0        1   \n",
       "3      0       0     0      0          0         0         0        0   \n",
       "4      0       0     0      0          0         0         0        0   \n",
       "\n",
       "               DateTime_length          Days_length  \n",
       "0    0 days 20:49:00.000000000             0-7 days  \n",
       "1  115 days 23:04:00.000000000  12 weeks - 6 months  \n",
       "2    3 days 09:53:00.000000000             0-7 days  \n",
       "3    4 days 00:47:00.000000000             0-7 days  \n",
       "4   24 days 22:11:00.000000000            3-6 weeks  \n",
       "\n",
       "[5 rows x 38 columns]"
      ]
     },
     "execution_count": 3,
     "metadata": {},
     "output_type": "execute_result"
    }
   ],
   "source": [
    "df.head()"
   ]
  },
  {
   "cell_type": "code",
   "execution_count": 4,
   "id": "4580e0e4",
   "metadata": {},
   "outputs": [],
   "source": [
    "# Drop unnecessary columns\n",
    "# Drop Name_intake since there is a Intake_type column\n",
    "# Drop all single breed type column since we need to do our own encoding for breed_intake\n",
    "df=df.drop(columns=['Unnamed: 0','Name_intake','Name_outcome','MonthYear_intake','MonthYear_outcome',\n",
    "                    'gender_intake','gender_outcome','fixed_intake','fixed_outcome','Days_length','Outcome_Subtype',\n",
    "                   'retriever','shepherd','beagle','terrier','boxer','poodle','rottweiler','dachshund','chihuahua',\n",
    "                   'pit bull','Age','Age_upon_Outcome'])"
   ]
  },
  {
   "cell_type": "code",
   "execution_count": 5,
   "id": "44e3032e",
   "metadata": {},
   "outputs": [],
   "source": [
    "df=df.dropna()"
   ]
  },
  {
   "cell_type": "code",
   "execution_count": 6,
   "id": "b967aa68",
   "metadata": {},
   "outputs": [
    {
     "data": {
      "text/plain": [
       "Adoption           32408\n",
       "Transfer           20799\n",
       "Return to Owner    17394\n",
       "Euthanasia          5470\n",
       "Died                 553\n",
       "Disposal             257\n",
       "Missing               51\n",
       "Rto-Adopt             23\n",
       "Relocate              13\n",
       "Name: Outcome_Type, dtype: int64"
      ]
     },
     "execution_count": 6,
     "metadata": {},
     "output_type": "execute_result"
    }
   ],
   "source": [
    "# View Outcome_Type values\n",
    "df.Outcome_Type.value_counts()"
   ]
  },
  {
   "cell_type": "code",
   "execution_count": 7,
   "id": "d9693102",
   "metadata": {},
   "outputs": [],
   "source": [
    "# Combine Died & Disposal Outcomes\n",
    "df.loc[df.Outcome_Type == 'Disposal', 'Outcome_Type'] = 'Died'"
   ]
  },
  {
   "cell_type": "code",
   "execution_count": 8,
   "id": "3372b947",
   "metadata": {},
   "outputs": [],
   "source": [
    "# Combine Transfer & Relocate Outcomes\n",
    "df.loc[df.Outcome_Type == 'Relocate', 'Outcome_Type'] = 'Transfer'"
   ]
  },
  {
   "cell_type": "code",
   "execution_count": 9,
   "id": "44eb089c",
   "metadata": {},
   "outputs": [],
   "source": [
    "# Combine Rto-Adopt & Return to Owner\n",
    "df.loc[df.Outcome_Type == 'Rto-Adopt', 'Outcome_Type'] = 'Return to Owner'"
   ]
  },
  {
   "cell_type": "code",
   "execution_count": 10,
   "id": "f18f6ae5",
   "metadata": {},
   "outputs": [
    {
     "data": {
      "text/plain": [
       "Adoption           32408\n",
       "Transfer           20812\n",
       "Return to Owner    17417\n",
       "Euthanasia          5470\n",
       "Died                 810\n",
       "Missing               51\n",
       "Name: Outcome_Type, dtype: int64"
      ]
     },
     "execution_count": 10,
     "metadata": {},
     "output_type": "execute_result"
    }
   ],
   "source": [
    "# Review Outcome_Type values\n",
    "df.Outcome_Type.value_counts()"
   ]
  },
  {
   "cell_type": "code",
   "execution_count": 11,
   "id": "cf36082d",
   "metadata": {},
   "outputs": [],
   "source": [
    "# Update DateTime_intake to datatime datatype\n",
    "df.DateTime_intake = pd.to_datetime(df.DateTime_intake, format='%Y-%m-%d').dt.date"
   ]
  },
  {
   "cell_type": "code",
   "execution_count": 12,
   "id": "fdb6553d",
   "metadata": {},
   "outputs": [],
   "source": [
    "# Update DateTime_outcome to datatime datatype\n",
    "df.DateTime_outcome = pd.to_datetime(df.DateTime_outcome, format='%Y-%m-%d').dt.date"
   ]
  },
  {
   "cell_type": "code",
   "execution_count": 13,
   "id": "f580c414",
   "metadata": {},
   "outputs": [],
   "source": [
    "# Update DateTime_length to dateformat and format length of stay column for just days\n",
    "df.DateTime_length = df.DateTime_outcome - df.DateTime_intake\n",
    "df.DateTime_length = df.DateTime_length / np.timedelta64(1, 'D')"
   ]
  },
  {
   "cell_type": "code",
   "execution_count": 14,
   "id": "019c5f7e",
   "metadata": {},
   "outputs": [],
   "source": [
    "# Rename DateTime_length to length of stay\n",
    "df = df.rename(columns={'DateTime_length': 'length_of_stay'})"
   ]
  },
  {
   "cell_type": "code",
   "execution_count": 18,
   "id": "42e862f6",
   "metadata": {},
   "outputs": [],
   "source": [
    "# Create a new column for Intake_Month\n",
    "df['intake_month'] = pd.DatetimeIndex(df.DateTime_intake).month"
   ]
  },
  {
   "cell_type": "code",
   "execution_count": 20,
   "id": "cda5cd2b",
   "metadata": {},
   "outputs": [],
   "source": [
    "# Create a new column for Outcome_month\n",
    "df['outcome_month'] = pd.DatetimeIndex(df.DateTime_outcome).month"
   ]
  },
  {
   "cell_type": "code",
   "execution_count": 22,
   "id": "b91ccff3",
   "metadata": {},
   "outputs": [],
   "source": [
    "# remove nagative values from length_of_stay\n",
    "df = df[df.length_of_stay >= 0]"
   ]
  },
  {
   "cell_type": "code",
   "execution_count": 23,
   "id": "c5ce705c",
   "metadata": {},
   "outputs": [
    {
     "data": {
      "text/plain": [
       "<AxesSubplot:xlabel='length_of_stay', ylabel='Count'>"
      ]
     },
     "execution_count": 23,
     "metadata": {},
     "output_type": "execute_result"
    },
    {
     "data": {
      "image/png": "[encoded data removed]",
      "text/plain": [
       "<Figure size 432x288 with 1 Axes>"
      ]
     },
     "metadata": {
      "needs_background": "light"
     },
     "output_type": "display_data"
    }
   ],
   "source": [
    "# review distribution of length of stay\n",
    "sns.histplot(data= df[df.length_of_stay < 365], x='length_of_stay')"
   ]
  },
  {
   "cell_type": "code",
   "execution_count": 24,
   "id": "ff0bdc11",
   "metadata": {},
   "outputs": [
    {
     "data": {
      "text/plain": [
       "count    69820.000000\n",
       "mean        34.953967\n",
       "std         97.664798\n",
       "min          0.000000\n",
       "25%          1.000000\n",
       "50%          6.000000\n",
       "75%         22.000000\n",
       "max       1236.000000\n",
       "Name: length_of_stay, dtype: float64"
      ]
     },
     "execution_count": 24,
     "metadata": {},
     "output_type": "execute_result"
    }
   ],
   "source": [
    "# review statistics of length of stay\n",
    "df.length_of_stay.describe()"
   ]
  },
  {
   "cell_type": "code",
   "execution_count": 25,
   "id": "d40905e5",
   "metadata": {},
   "outputs": [],
   "source": [
    "# bucket length of stay\n",
    "cut_labels = ['1 Day', '1 Week', '1 Month', '6 Months', '> 1 Year']\n",
    "cut_bins = [-1, 2, 8, 31, 183, 366]\n",
    "df['length_stay_bins'] = pd.cut(df['length_of_stay'], bins=cut_bins, labels=cut_labels)"
   ]
  },
  {
   "cell_type": "code",
   "execution_count": 26,
   "id": "11b7afd8",
   "metadata": {},
   "outputs": [
    {
     "data": {
      "text/plain": [
       "1 Day       21481\n",
       "1 Week      20067\n",
       "1 Month     13826\n",
       "6 Months    11288\n",
       "> 1 Year     1791\n",
       "Name: length_stay_bins, dtype: int64"
      ]
     },
     "execution_count": 26,
     "metadata": {},
     "output_type": "execute_result"
    }
   ],
   "source": [
    "df.length_stay_bins.value_counts()"
   ]
  },
  {
   "cell_type": "code",
   "execution_count": 27,
   "id": "05e7081f",
   "metadata": {},
   "outputs": [],
   "source": [
    "# Combine Aged and Feral with Other for IntakeCondition\n",
    "df.loc[(df.IntakeCondition == 'Aged') | (df.IntakeCondition == 'Feral'), 'IntakeCondition'] = 'Other'"
   ]
  },
  {
   "cell_type": "code",
   "execution_count": 28,
   "id": "74c7fa10",
   "metadata": {},
   "outputs": [],
   "source": [
    "# Combine Injured and Sick for Intake Condition\n",
    "df.loc[(df.IntakeCondition == 'Injured') | (df.IntakeCondition == 'Sick'), 'IntakeCondition'] = 'Medical'"
   ]
  },
  {
   "cell_type": "code",
   "execution_count": 29,
   "id": "c0c17d12",
   "metadata": {},
   "outputs": [],
   "source": [
    "# Combine Pregnant and Nursing for  IntakeCondition\n",
    "df.loc[(df.IntakeCondition == 'Nursing') | (df.IntakeCondition == 'Pregnant'), 'IntakeCondition' ] = 'Maternity'"
   ]
  },
  {
   "cell_type": "code",
   "execution_count": 30,
   "id": "c1b1ba2a",
   "metadata": {},
   "outputs": [],
   "source": [
    "# Combine Bird and Livestock with Other for Animal_Type_intake\n",
    "df.loc[(df.Animal_Type_intake == 'Bird') | (df.Animal_Type_intake == 'Livestock'), 'Animal_Type_intake'] = 'Other'"
   ]
  },
  {
   "cell_type": "code",
   "execution_count": 31,
   "id": "5a85b407",
   "metadata": {},
   "outputs": [],
   "source": [
    "# rename Sex column to intake sex\n",
    "df.rename(columns={'Sex': 'Sex_Intake'}, inplace=True)"
   ]
  },
  {
   "cell_type": "code",
   "execution_count": 32,
   "id": "15b45041",
   "metadata": {},
   "outputs": [],
   "source": [
    "# Create buckets to classify dog breed types\n",
    "new_breed=[]\n",
    "for i in df['Breed_intake']:\n",
    "    if 'Mix' in i:\n",
    "        i='Mix'\n",
    "    elif \"/\" in i:\n",
    "        i=\"Mix\"\n",
    "    elif 'Bull' in i or 'Staffordshire' in i or i=='Chinese Sharpei' or i=='Dogo Argentino' or i=='Boxer':\n",
    "        i = 'Bully Breed'\n",
    "    elif 'Terrier' in i:\n",
    "        i= 'Terrier Breed'\n",
    "    elif i=='Bat' or i=='Raccoon' or i=='Opossum' or i=='Duck' or i=='Fox' or i=='Grackle' or i=='Hawk' or i=='Coyote' or i=='Pigeon' or i=='Dove' or i=='Armadillo' or i=='Owl' or i=='Skunk' or i=='Squirrel' or i=='Mockingbird' or i=='Heron' or i=='Sparrow':\n",
    "        i = 'Wildlife'\n",
    "    elif 'Pointer' in i or 'Span' in i or i=='Vizsla' or i=='Brittany' or i=='Shiba Inu' or i=='Dalmatian' or i=='Standard Poodle' or i=='Carolina Dog' or i=='Weimaraner' or 'Husky' in i or 'Malamute' in i or 'Eskimo' in i or i=='Finnish Spitz' or i=='Samoyed' or i=='Keeshond' or i=='Jindo' or 'Retriever' in i or i=='Chesa Bay Retr':\n",
    "        i = 'Sporting Breed'\n",
    "    elif 'hound' in i or 'Hound' in i or i=='Beagle' or i=='Saluki' or 'Coon' in i or i=='Catahoula' or i=='Black Mouth Cur' or i=='Harrier' or i=='Blue Lacy' or i=='Treeing Tennesse Brindle' or i=='Whippet':\n",
    "        i = 'Hound Breed'\n",
    "    elif i=='Shih Tzu' or i=='Miniature Poodle' or i=='Miniature Schnauzer' or i=='Maltese' or i=='Pomeranian' or i=='Lhasa Apso' or i=='Toy Poodle' or i=='Pekingese' or i=='Bichon Frise' or i=='Cavalier Span' or i=='West Highland' or i=='Papillon' or i=='Havanese' or i=='Japanese Chin' or i=='Dandie Dinmont' or i=='Bruss Griffon' or i=='Coton De Tulear' or 'Dachshund' in i or i=='French Bulldog' or i=='Pug' or i=='Miniature Pinscher' or i=='Pbgv' or 'Chihuahua' in i:\n",
    "        i = 'Toy Breed'\n",
    "    elif 'Australian' in i or 'Collie' in i or 'Heeler' in i or 'Sheepdog' in i or i=='English Shepherd' or i=='Dutch Shepherd' or 'Corgi' in i or i=='Beauceron' or i=='Hovawart':\n",
    "        i = 'Herding Breed'\n",
    "    elif i=='Chinese Sharpei' or i=='Chow Chow' or i=='Standard Schnauzer' or i=='Basenji' or i=='Rottweiler' or i=='Doberman Pinsch' or i=='German Shepherd' or i=='Belgian Malinois':\n",
    "        i = 'Working Breed'\n",
    "    elif i=='Great Pyrenees' or i=='Great Dane' or i=='Anatol Shepherd' or i=='Cane Corso' or i=='Rhod Ridgeback' or i=='Akita' or i=='Mastiff' or i=='Presa Canario' or 'Bernese' in i or i=='Burmese' or 'Bernard' in i or i=='Leonberger' or i=='Greater Swiss Mountain Dog' or i=='Boerboel'or i=='Landseer':\n",
    "        i = 'X Large Breed'\n",
    "    elif 'Domestic' in i or i=='Persian' or i=='Siamese' or i=='Domestic Longhair' or i=='Persian' or i=='Himalayan' or i=='Russian Blue' or i=='Bengal' or i=='Devon Rex' or i=='Sphynx' or i=='British Shorthair' or i=='Manx':\n",
    "        i = 'Cat Breed'\n",
    "    else:\n",
    "        i='Other'\n",
    "    new_breed.append(i)\n",
    "df['Breed_Type'] = new_breed"
   ]
  },
  {
   "cell_type": "code",
   "execution_count": 33,
   "id": "cef4e034",
   "metadata": {},
   "outputs": [
    {
     "data": {
      "text/plain": [
       "Mix               64990\n",
       "Wildlife           1065\n",
       "Toy Breed           752\n",
       "Cat Breed           566\n",
       "Bully Breed         545\n",
       "Sporting Breed      500\n",
       "Working Breed       384\n",
       "Hound Breed         267\n",
       "Herding Breed       221\n",
       "Terrier Breed       212\n",
       "Other               188\n",
       "X Large Breed       130\n",
       "Name: Breed_Type, dtype: int64"
      ]
     },
     "execution_count": 33,
     "metadata": {},
     "output_type": "execute_result"
    }
   ],
   "source": [
    "df.Breed_Type.value_counts()"
   ]
  },
  {
   "cell_type": "code",
   "execution_count": 34,
   "id": "fb53f7f1",
   "metadata": {},
   "outputs": [],
   "source": [
    "df.drop('Breed_intake', axis=1, inplace=True)"
   ]
  },
  {
   "cell_type": "code",
   "execution_count": 35,
   "id": "c30fcd8c",
   "metadata": {},
   "outputs": [],
   "source": [
    "# Create buckets to catagorize color\n",
    "colorNew=[]\n",
    "for i in df.Color_intake:\n",
    "    if \"/\" in i:\n",
    "        i=\"Bicolor\"\n",
    "    elif \"Tabby\" in i:\n",
    "        i='Tabby'\n",
    "    elif \"Brindle\" in i:\n",
    "        i=\"Tabby\"\n",
    "    elif \"Merle\" in i:\n",
    "        i=\"Merle\"\n",
    "    elif \"Tiger\" in i:\n",
    "        i=\"Tiger\"\n",
    "    elif \"Tortie\" in i:\n",
    "        i=\"Tabby\"\n",
    "    elif \"Calico\" in i:\n",
    "        i=\"Tabby\"\n",
    "    elif \"Torbie\" in i:\n",
    "        i=\"Tabby\"\n",
    "    elif i==\"Apricot\" or i==\"Gold\" or i==\"Yellow\" or i==\"Fawn\":\n",
    "        i=\"Orange\"\n",
    "    elif \"Blue\" in i:\n",
    "        i=\"Blue\"\n",
    "    elif \"Black\" in i or i==\"Sable\":\n",
    "        i=\"Black\"\n",
    "    elif i==\"Liver\":\n",
    "        i=\"Brown\"\n",
    "    elif \"Point\" in i:\n",
    "        i='Point'\n",
    "    elif \"Tick\" in i:\n",
    "        i=\"Point\"\n",
    "    else:\n",
    "        i=i\n",
    "    colorNew.append(i)\n",
    "df.Color_intake =colorNew"
   ]
  },
  {
   "cell_type": "code",
   "execution_count": 36,
   "id": "ae0d28f8",
   "metadata": {},
   "outputs": [],
   "source": [
    "# Update colors with less than 500 values to Other\n",
    "color_counts=df['Color_intake'].value_counts()\n",
    "replace_color=color_counts.loc[color_counts<500].index.tolist()\n",
    "for i in replace_color:\n",
    "    df.Color_intake = df.Color_intake.replace(i,\"Other\")"
   ]
  },
  {
   "cell_type": "code",
   "execution_count": 37,
   "id": "66a0f109",
   "metadata": {},
   "outputs": [
    {
     "data": {
      "text/plain": [
       "Bicolor     37442\n",
       "Tabby       10874\n",
       "Black        6148\n",
       "Brown        2966\n",
       "White        2524\n",
       "Other        1993\n",
       "Tricolor     1931\n",
       "Tan          1794\n",
       "Blue         1241\n",
       "Point        1015\n",
       "Red           964\n",
       "Orange        928\n",
       "Name: Color_intake, dtype: int64"
      ]
     },
     "execution_count": 37,
     "metadata": {},
     "output_type": "execute_result"
    }
   ],
   "source": [
    "df.Color_intake.value_counts()"
   ]
  },
  {
   "cell_type": "code",
   "execution_count": 38,
   "id": "66878fbf",
   "metadata": {},
   "outputs": [
    {
     "data": {
      "text/html": [
       "<div>\n",
       "<style scoped>\n",
       "    .dataframe tbody tr th:only-of-type {\n",
       "        vertical-align: middle;\n",
       "    }\n",
       "\n",
       "    .dataframe tbody tr th {\n",
       "        vertical-align: top;\n",
       "    }\n",
       "\n",
       "    .dataframe thead th {\n",
       "        text-align: right;\n",
       "    }\n",
       "</style>\n",
       "<table border=\"1\" class=\"dataframe\">\n",
       "  <thead>\n",
       "    <tr style=\"text-align: right;\">\n",
       "      <th></th>\n",
       "      <th>Animal ID</th>\n",
       "      <th>DateTime_intake</th>\n",
       "      <th>Found_Location</th>\n",
       "      <th>Intake_Type</th>\n",
       "      <th>IntakeCondition</th>\n",
       "      <th>Animal_Type_intake</th>\n",
       "      <th>Sex_Intake</th>\n",
       "      <th>Color_intake</th>\n",
       "      <th>DateTime_outcome</th>\n",
       "      <th>Outcome_Type</th>\n",
       "      <th>Sex_upon_Outcome</th>\n",
       "      <th>fixed_changed</th>\n",
       "      <th>Age_Bucket</th>\n",
       "      <th>length_of_stay</th>\n",
       "      <th>intake_month</th>\n",
       "      <th>outcome_month</th>\n",
       "      <th>length_stay_bins</th>\n",
       "      <th>Breed_Type</th>\n",
       "    </tr>\n",
       "  </thead>\n",
       "  <tbody>\n",
       "    <tr>\n",
       "      <th>0</th>\n",
       "      <td>A730601</td>\n",
       "      <td>2016-07-07</td>\n",
       "      <td>1109 Shady Ln in Austin (TX)</td>\n",
       "      <td>Stray</td>\n",
       "      <td>Normal</td>\n",
       "      <td>Cat</td>\n",
       "      <td>Intact Male</td>\n",
       "      <td>Tabby</td>\n",
       "      <td>2016-07-08</td>\n",
       "      <td>Transfer</td>\n",
       "      <td>Neutered Male</td>\n",
       "      <td>1</td>\n",
       "      <td>7-12 months</td>\n",
       "      <td>1.0</td>\n",
       "      <td>7</td>\n",
       "      <td>7</td>\n",
       "      <td>1 Day</td>\n",
       "      <td>Mix</td>\n",
       "    </tr>\n",
       "    <tr>\n",
       "      <th>1</th>\n",
       "      <td>A683644</td>\n",
       "      <td>2014-07-13</td>\n",
       "      <td>Austin (TX)</td>\n",
       "      <td>Owner Surrender</td>\n",
       "      <td>Maternity</td>\n",
       "      <td>Dog</td>\n",
       "      <td>Intact Female</td>\n",
       "      <td>Bicolor</td>\n",
       "      <td>2014-11-06</td>\n",
       "      <td>Adoption</td>\n",
       "      <td>Spayed Female</td>\n",
       "      <td>1</td>\n",
       "      <td>1-6 weeks</td>\n",
       "      <td>116.0</td>\n",
       "      <td>7</td>\n",
       "      <td>11</td>\n",
       "      <td>6 Months</td>\n",
       "      <td>Mix</td>\n",
       "    </tr>\n",
       "    <tr>\n",
       "      <th>2</th>\n",
       "      <td>A676515</td>\n",
       "      <td>2014-04-11</td>\n",
       "      <td>615 E. Wonsley in Austin (TX)</td>\n",
       "      <td>Stray</td>\n",
       "      <td>Normal</td>\n",
       "      <td>Dog</td>\n",
       "      <td>Intact Male</td>\n",
       "      <td>Bicolor</td>\n",
       "      <td>2014-04-14</td>\n",
       "      <td>Return to Owner</td>\n",
       "      <td>Neutered Male</td>\n",
       "      <td>1</td>\n",
       "      <td>1-6 months</td>\n",
       "      <td>3.0</td>\n",
       "      <td>4</td>\n",
       "      <td>4</td>\n",
       "      <td>1 Week</td>\n",
       "      <td>Mix</td>\n",
       "    </tr>\n",
       "    <tr>\n",
       "      <th>3</th>\n",
       "      <td>A742953</td>\n",
       "      <td>2017-01-31</td>\n",
       "      <td>S Hwy 183 And Thompson Lane in Austin (TX)</td>\n",
       "      <td>Stray</td>\n",
       "      <td>Normal</td>\n",
       "      <td>Dog</td>\n",
       "      <td>Intact Male</td>\n",
       "      <td>Bicolor</td>\n",
       "      <td>2017-02-04</td>\n",
       "      <td>Transfer</td>\n",
       "      <td>Intact Male</td>\n",
       "      <td>0</td>\n",
       "      <td>1-3 years</td>\n",
       "      <td>4.0</td>\n",
       "      <td>1</td>\n",
       "      <td>2</td>\n",
       "      <td>1 Week</td>\n",
       "      <td>Hound Breed</td>\n",
       "    </tr>\n",
       "    <tr>\n",
       "      <th>4</th>\n",
       "      <td>A679549</td>\n",
       "      <td>2014-05-22</td>\n",
       "      <td>124 W Anderson in Austin (TX)</td>\n",
       "      <td>Stray</td>\n",
       "      <td>Normal</td>\n",
       "      <td>Cat</td>\n",
       "      <td>Intact Male</td>\n",
       "      <td>Bicolor</td>\n",
       "      <td>2014-06-16</td>\n",
       "      <td>Transfer</td>\n",
       "      <td>Neutered Male</td>\n",
       "      <td>1</td>\n",
       "      <td>1-6 months</td>\n",
       "      <td>25.0</td>\n",
       "      <td>5</td>\n",
       "      <td>6</td>\n",
       "      <td>1 Month</td>\n",
       "      <td>Mix</td>\n",
       "    </tr>\n",
       "  </tbody>\n",
       "</table>\n",
       "</div>"
      ],
      "text/plain": [
       "  Animal ID DateTime_intake                              Found_Location  \\\n",
       "0   A730601      2016-07-07                1109 Shady Ln in Austin (TX)   \n",
       "1   A683644      2014-07-13                                 Austin (TX)   \n",
       "2   A676515      2014-04-11               615 E. Wonsley in Austin (TX)   \n",
       "3   A742953      2017-01-31  S Hwy 183 And Thompson Lane in Austin (TX)   \n",
       "4   A679549      2014-05-22               124 W Anderson in Austin (TX)   \n",
       "\n",
       "       Intake_Type IntakeCondition Animal_Type_intake     Sex_Intake  \\\n",
       "0            Stray          Normal                Cat    Intact Male   \n",
       "1  Owner Surrender       Maternity                Dog  Intact Female   \n",
       "2            Stray          Normal                Dog    Intact Male   \n",
       "3            Stray          Normal                Dog    Intact Male   \n",
       "4            Stray          Normal                Cat    Intact Male   \n",
       "\n",
       "  Color_intake DateTime_outcome     Outcome_Type Sex_upon_Outcome  \\\n",
       "0        Tabby       2016-07-08         Transfer    Neutered Male   \n",
       "1      Bicolor       2014-11-06         Adoption    Spayed Female   \n",
       "2      Bicolor       2014-04-14  Return to Owner    Neutered Male   \n",
       "3      Bicolor       2017-02-04         Transfer      Intact Male   \n",
       "4      Bicolor       2014-06-16         Transfer    Neutered Male   \n",
       "\n",
       "   fixed_changed   Age_Bucket  length_of_stay  intake_month  outcome_month  \\\n",
       "0              1  7-12 months             1.0             7              7   \n",
       "1              1    1-6 weeks           116.0             7             11   \n",
       "2              1   1-6 months             3.0             4              4   \n",
       "3              0    1-3 years             4.0             1              2   \n",
       "4              1   1-6 months            25.0             5              6   \n",
       "\n",
       "  length_stay_bins   Breed_Type  \n",
       "0            1 Day          Mix  \n",
       "1         6 Months          Mix  \n",
       "2           1 Week          Mix  \n",
       "3           1 Week  Hound Breed  \n",
       "4          1 Month          Mix  "
      ]
     },
     "execution_count": 38,
     "metadata": {},
     "output_type": "execute_result"
    }
   ],
   "source": [
    "df.head()"
   ]
  },
  {
   "cell_type": "code",
   "execution_count": 39,
   "id": "378728b2",
   "metadata": {},
   "outputs": [
    {
     "name": "stdout",
     "output_type": "stream",
     "text": [
      "<class 'pandas.core.frame.DataFrame'>\n",
      "Int64Index: 69820 entries, 0 to 76975\n",
      "Data columns (total 18 columns):\n",
      " #   Column              Non-Null Count  Dtype   \n",
      "---  ------              --------------  -----   \n",
      " 0   Animal ID           69820 non-null  object  \n",
      " 1   DateTime_intake     69820 non-null  object  \n",
      " 2   Found_Location      69820 non-null  object  \n",
      " 3   Intake_Type         69820 non-null  object  \n",
      " 4   IntakeCondition     69820 non-null  object  \n",
      " 5   Animal_Type_intake  69820 non-null  object  \n",
      " 6   Sex_Intake          69820 non-null  object  \n",
      " 7   Color_intake        69820 non-null  object  \n",
      " 8   DateTime_outcome    69820 non-null  object  \n",
      " 9   Outcome_Type        69820 non-null  object  \n",
      " 10  Sex_upon_Outcome    69820 non-null  object  \n",
      " 11  fixed_changed       69820 non-null  int64   \n",
      " 12  Age_Bucket          69820 non-null  object  \n",
      " 13  length_of_stay      69820 non-null  float64 \n",
      " 14  intake_month        69820 non-null  int64   \n",
      " 15  outcome_month       69820 non-null  int64   \n",
      " 16  length_stay_bins    68453 non-null  category\n",
      " 17  Breed_Type          69820 non-null  object  \n",
      "dtypes: category(1), float64(1), int64(3), object(13)\n",
      "memory usage: 9.7+ MB\n"
     ]
    }
   ],
   "source": [
    "df.info()"
   ]
  },
  {
   "cell_type": "markdown",
   "id": "248dd5be",
   "metadata": {},
   "source": [
    "# Machine Learning Model"
   ]
  },
  {
   "cell_type": "code",
   "execution_count": 64,
   "id": "bc346e7c",
   "metadata": {},
   "outputs": [],
   "source": [
    "from sklearn.preprocessing import LabelEncoder, StandardScaler\n",
    "from sklearn.model_selection import train_test_split\n",
    "from sklearn.neighbors import KNeighborsClassifier\n",
    "from sklearn.ensemble import RandomForestClassifier, GradientBoostingClassifier\n",
    "from sklearn.tree import DecisionTreeClassifier\n",
    "from sklearn.metrics import confusion_matrix, classification_report, ConfusionMatrixDisplay\n",
    "import seaborn as sns\n",
    "import matplotlib.pyplot as plt"
   ]
  },
  {
   "cell_type": "markdown",
   "id": "0ceda8a4",
   "metadata": {},
   "source": [
    "## Encoding Text Columns"
   ]
  },
  {
   "cell_type": "code",
   "execution_count": 41,
   "id": "565aceb3",
   "metadata": {},
   "outputs": [],
   "source": [
    "# Drop columns with to many unique values\n",
    "df.drop(['Animal ID', 'Found_Location', 'DateTime_intake', 'DateTime_outcome'], axis=1, inplace=True)"
   ]
  },
  {
   "cell_type": "code",
   "execution_count": 42,
   "id": "642d98f0",
   "metadata": {},
   "outputs": [],
   "source": [
    "# encode text columns with dummy values\n",
    "df_encoded = pd.get_dummies(df, columns=['Intake_Type', 'IntakeCondition', 'Animal_Type_intake', 'Sex_Intake', \n",
    "                    'Color_intake', 'Sex_upon_Outcome', 'Age_Bucket', 'Breed_Type', 'length_stay_bins'])"
   ]
  },
  {
   "cell_type": "code",
   "execution_count": 43,
   "id": "38e7aec8",
   "metadata": {},
   "outputs": [
    {
     "name": "stdout",
     "output_type": "stream",
     "text": [
      "{'Adoption': 0, 'Died': 1, 'Euthanasia': 2, 'Missing': 3, 'Return to Owner': 4, 'Transfer': 5}\n"
     ]
    }
   ],
   "source": [
    "le = LabelEncoder()\n",
    "df_encoded['Outcome_Type'] = le.fit_transform(df_encoded['Outcome_Type'])\n",
    "le_name_mapping = dict(zip(le.classes_, le.transform(le.classes_)))\n",
    "print(le_name_mapping)"
   ]
  },
  {
   "cell_type": "code",
   "execution_count": 69,
   "id": "f70647a4",
   "metadata": {},
   "outputs": [
    {
     "data": {
      "text/html": [
       "<div>\n",
       "<style scoped>\n",
       "    .dataframe tbody tr th:only-of-type {\n",
       "        vertical-align: middle;\n",
       "    }\n",
       "\n",
       "    .dataframe tbody tr th {\n",
       "        vertical-align: top;\n",
       "    }\n",
       "\n",
       "    .dataframe thead th {\n",
       "        text-align: right;\n",
       "    }\n",
       "</style>\n",
       "<table border=\"1\" class=\"dataframe\">\n",
       "  <thead>\n",
       "    <tr style=\"text-align: right;\">\n",
       "      <th></th>\n",
       "      <th>Outcome_Type</th>\n",
       "      <th>fixed_changed</th>\n",
       "      <th>length_of_stay</th>\n",
       "      <th>intake_month</th>\n",
       "      <th>outcome_month</th>\n",
       "      <th>Intake_Type_Euthanasia Request</th>\n",
       "      <th>Intake_Type_Owner Surrender</th>\n",
       "      <th>Intake_Type_Public Assist</th>\n",
       "      <th>Intake_Type_Stray</th>\n",
       "      <th>Intake_Type_Wildlife</th>\n",
       "      <th>...</th>\n",
       "      <th>Breed_Type_Terrier Breed</th>\n",
       "      <th>Breed_Type_Toy Breed</th>\n",
       "      <th>Breed_Type_Wildlife</th>\n",
       "      <th>Breed_Type_Working Breed</th>\n",
       "      <th>Breed_Type_X Large Breed</th>\n",
       "      <th>length_stay_bins_1 Day</th>\n",
       "      <th>length_stay_bins_1 Week</th>\n",
       "      <th>length_stay_bins_1 Month</th>\n",
       "      <th>length_stay_bins_6 Months</th>\n",
       "      <th>length_stay_bins_&gt; 1 Year</th>\n",
       "    </tr>\n",
       "  </thead>\n",
       "  <tbody>\n",
       "    <tr>\n",
       "      <th>0</th>\n",
       "      <td>5</td>\n",
       "      <td>1</td>\n",
       "      <td>1.0</td>\n",
       "      <td>7</td>\n",
       "      <td>7</td>\n",
       "      <td>0</td>\n",
       "      <td>0</td>\n",
       "      <td>0</td>\n",
       "      <td>1</td>\n",
       "      <td>0</td>\n",
       "      <td>...</td>\n",
       "      <td>0</td>\n",
       "      <td>0</td>\n",
       "      <td>0</td>\n",
       "      <td>0</td>\n",
       "      <td>0</td>\n",
       "      <td>1</td>\n",
       "      <td>0</td>\n",
       "      <td>0</td>\n",
       "      <td>0</td>\n",
       "      <td>0</td>\n",
       "    </tr>\n",
       "    <tr>\n",
       "      <th>1</th>\n",
       "      <td>0</td>\n",
       "      <td>1</td>\n",
       "      <td>116.0</td>\n",
       "      <td>7</td>\n",
       "      <td>11</td>\n",
       "      <td>0</td>\n",
       "      <td>1</td>\n",
       "      <td>0</td>\n",
       "      <td>0</td>\n",
       "      <td>0</td>\n",
       "      <td>...</td>\n",
       "      <td>0</td>\n",
       "      <td>0</td>\n",
       "      <td>0</td>\n",
       "      <td>0</td>\n",
       "      <td>0</td>\n",
       "      <td>0</td>\n",
       "      <td>0</td>\n",
       "      <td>0</td>\n",
       "      <td>1</td>\n",
       "      <td>0</td>\n",
       "    </tr>\n",
       "    <tr>\n",
       "      <th>2</th>\n",
       "      <td>4</td>\n",
       "      <td>1</td>\n",
       "      <td>3.0</td>\n",
       "      <td>4</td>\n",
       "      <td>4</td>\n",
       "      <td>0</td>\n",
       "      <td>0</td>\n",
       "      <td>0</td>\n",
       "      <td>1</td>\n",
       "      <td>0</td>\n",
       "      <td>...</td>\n",
       "      <td>0</td>\n",
       "      <td>0</td>\n",
       "      <td>0</td>\n",
       "      <td>0</td>\n",
       "      <td>0</td>\n",
       "      <td>0</td>\n",
       "      <td>1</td>\n",
       "      <td>0</td>\n",
       "      <td>0</td>\n",
       "      <td>0</td>\n",
       "    </tr>\n",
       "    <tr>\n",
       "      <th>3</th>\n",
       "      <td>5</td>\n",
       "      <td>0</td>\n",
       "      <td>4.0</td>\n",
       "      <td>1</td>\n",
       "      <td>2</td>\n",
       "      <td>0</td>\n",
       "      <td>0</td>\n",
       "      <td>0</td>\n",
       "      <td>1</td>\n",
       "      <td>0</td>\n",
       "      <td>...</td>\n",
       "      <td>0</td>\n",
       "      <td>0</td>\n",
       "      <td>0</td>\n",
       "      <td>0</td>\n",
       "      <td>0</td>\n",
       "      <td>0</td>\n",
       "      <td>1</td>\n",
       "      <td>0</td>\n",
       "      <td>0</td>\n",
       "      <td>0</td>\n",
       "    </tr>\n",
       "    <tr>\n",
       "      <th>4</th>\n",
       "      <td>5</td>\n",
       "      <td>1</td>\n",
       "      <td>25.0</td>\n",
       "      <td>5</td>\n",
       "      <td>6</td>\n",
       "      <td>0</td>\n",
       "      <td>0</td>\n",
       "      <td>0</td>\n",
       "      <td>1</td>\n",
       "      <td>0</td>\n",
       "      <td>...</td>\n",
       "      <td>0</td>\n",
       "      <td>0</td>\n",
       "      <td>0</td>\n",
       "      <td>0</td>\n",
       "      <td>0</td>\n",
       "      <td>0</td>\n",
       "      <td>0</td>\n",
       "      <td>1</td>\n",
       "      <td>0</td>\n",
       "      <td>0</td>\n",
       "    </tr>\n",
       "  </tbody>\n",
       "</table>\n",
       "<p>5 rows × 63 columns</p>\n",
       "</div>"
      ],
      "text/plain": [
       "   Outcome_Type  fixed_changed  length_of_stay  intake_month  outcome_month  \\\n",
       "0             5              1             1.0             7              7   \n",
       "1             0              1           116.0             7             11   \n",
       "2             4              1             3.0             4              4   \n",
       "3             5              0             4.0             1              2   \n",
       "4             5              1            25.0             5              6   \n",
       "\n",
       "   Intake_Type_Euthanasia Request  Intake_Type_Owner Surrender  \\\n",
       "0                               0                            0   \n",
       "1                               0                            1   \n",
       "2                               0                            0   \n",
       "3                               0                            0   \n",
       "4                               0                            0   \n",
       "\n",
       "   Intake_Type_Public Assist  Intake_Type_Stray  Intake_Type_Wildlife  ...  \\\n",
       "0                          0                  1                     0  ...   \n",
       "1                          0                  0                     0  ...   \n",
       "2                          0                  1                     0  ...   \n",
       "3                          0                  1                     0  ...   \n",
       "4                          0                  1                     0  ...   \n",
       "\n",
       "   Breed_Type_Terrier Breed  Breed_Type_Toy Breed  Breed_Type_Wildlife  \\\n",
       "0                         0                     0                    0   \n",
       "1                         0                     0                    0   \n",
       "2                         0                     0                    0   \n",
       "3                         0                     0                    0   \n",
       "4                         0                     0                    0   \n",
       "\n",
       "   Breed_Type_Working Breed  Breed_Type_X Large Breed  length_stay_bins_1 Day  \\\n",
       "0                         0                         0                       1   \n",
       "1                         0                         0                       0   \n",
       "2                         0                         0                       0   \n",
       "3                         0                         0                       0   \n",
       "4                         0                         0                       0   \n",
       "\n",
       "   length_stay_bins_1 Week  length_stay_bins_1 Month  \\\n",
       "0                        0                         0   \n",
       "1                        0                         0   \n",
       "2                        1                         0   \n",
       "3                        1                         0   \n",
       "4                        0                         1   \n",
       "\n",
       "   length_stay_bins_6 Months  length_stay_bins_> 1 Year  \n",
       "0                          0                          0  \n",
       "1                          1                          0  \n",
       "2                          0                          0  \n",
       "3                          0                          0  \n",
       "4                          0                          0  \n",
       "\n",
       "[5 rows x 63 columns]"
      ]
     },
     "execution_count": 69,
     "metadata": {},
     "output_type": "execute_result"
    }
   ],
   "source": [
    "df_encoded.head()"
   ]
  },
  {
   "cell_type": "markdown",
   "id": "2c100ffc",
   "metadata": {},
   "source": [
    "## Train Test Split Data"
   ]
  },
  {
   "cell_type": "code",
   "execution_count": 45,
   "id": "03b93ad5",
   "metadata": {},
   "outputs": [],
   "source": [
    "y = df_encoded.Outcome_Type\n",
    "X = df_encoded.drop(columns='Outcome_Type')"
   ]
  },
  {
   "cell_type": "code",
   "execution_count": 46,
   "id": "f0db80aa",
   "metadata": {},
   "outputs": [],
   "source": [
    "# Split data to train and test \n",
    "X_train, X_test, y_train, y_test = train_test_split(X, y,  random_state=1)"
   ]
  },
  {
   "cell_type": "markdown",
   "id": "b87ab0e2",
   "metadata": {},
   "source": [
    "## Scale Data"
   ]
  },
  {
   "cell_type": "code",
   "execution_count": 70,
   "id": "1dd9f87a",
   "metadata": {},
   "outputs": [],
   "source": [
    "# Scale features\n",
    "scaler = StandardScaler()\n",
    "X_scaler = scaler.fit(X_train)\n",
    "\n",
    "X_train_scaled = X_scaler.transform(X_train)\n",
    "X_test_scaled = X_scaler.transform(X_test)"
   ]
  },
  {
   "cell_type": "markdown",
   "id": "343a04b6",
   "metadata": {},
   "source": [
    "## RandomForest"
   ]
  },
  {
   "cell_type": "code",
   "execution_count": 71,
   "id": "c2ddd29a",
   "metadata": {},
   "outputs": [],
   "source": [
    "# create model instance\n",
    "model = RandomForestClassifier()"
   ]
  },
  {
   "cell_type": "code",
   "execution_count": 72,
   "id": "cbd13e1a",
   "metadata": {},
   "outputs": [
    {
     "data": {
      "text/plain": [
       "RandomForestClassifier()"
      ]
     },
     "execution_count": 72,
     "metadata": {},
     "output_type": "execute_result"
    }
   ],
   "source": [
    "# fit model\n",
    "model.fit(X_train_scaled, y_train)"
   ]
  },
  {
   "cell_type": "markdown",
   "id": "ec8971bc",
   "metadata": {},
   "source": [
    "### Prediction"
   ]
  },
  {
   "cell_type": "code",
   "execution_count": 73,
   "id": "745e713d",
   "metadata": {},
   "outputs": [
    {
     "data": {
      "text/html": [
       "<div>\n",
       "<style scoped>\n",
       "    .dataframe tbody tr th:only-of-type {\n",
       "        vertical-align: middle;\n",
       "    }\n",
       "\n",
       "    .dataframe tbody tr th {\n",
       "        vertical-align: top;\n",
       "    }\n",
       "\n",
       "    .dataframe thead th {\n",
       "        text-align: right;\n",
       "    }\n",
       "</style>\n",
       "<table border=\"1\" class=\"dataframe\">\n",
       "  <thead>\n",
       "    <tr style=\"text-align: right;\">\n",
       "      <th></th>\n",
       "      <th>Prediction</th>\n",
       "      <th>Actual</th>\n",
       "    </tr>\n",
       "  </thead>\n",
       "  <tbody>\n",
       "    <tr>\n",
       "      <th>0</th>\n",
       "      <td>4</td>\n",
       "      <td>4</td>\n",
       "    </tr>\n",
       "    <tr>\n",
       "      <th>1</th>\n",
       "      <td>5</td>\n",
       "      <td>5</td>\n",
       "    </tr>\n",
       "    <tr>\n",
       "      <th>2</th>\n",
       "      <td>4</td>\n",
       "      <td>0</td>\n",
       "    </tr>\n",
       "    <tr>\n",
       "      <th>3</th>\n",
       "      <td>0</td>\n",
       "      <td>5</td>\n",
       "    </tr>\n",
       "    <tr>\n",
       "      <th>4</th>\n",
       "      <td>4</td>\n",
       "      <td>0</td>\n",
       "    </tr>\n",
       "  </tbody>\n",
       "</table>\n",
       "</div>"
      ],
      "text/plain": [
       "   Prediction  Actual\n",
       "0           4       4\n",
       "1           5       5\n",
       "2           4       0\n",
       "3           0       5\n",
       "4           4       0"
      ]
     },
     "execution_count": 73,
     "metadata": {},
     "output_type": "execute_result"
    }
   ],
   "source": [
    "# Predict and view results\n",
    "y_pred = model.predict(X_test)\n",
    "results = pd.DataFrame({\n",
    "   \"Prediction\": y_pred,\n",
    "   \"Actual\": y_test\n",
    "}).reset_index(drop=True)\n",
    "results.head()"
   ]
  },
  {
   "cell_type": "markdown",
   "id": "89156208",
   "metadata": {},
   "source": [
    "### Evaluation"
   ]
  },
  {
   "cell_type": "code",
   "execution_count": 74,
   "id": "4cd4c947",
   "metadata": {},
   "outputs": [
    {
     "data": {
      "text/plain": [
       "<AxesSubplot:xlabel='Predicted', ylabel='Actual'>"
      ]
     },
     "execution_count": 74,
     "metadata": {},
     "output_type": "execute_result"
    },
    {
     "data": {
      "image/png": "[encoded data removed]",
      "text/plain": [
       "<Figure size 1440x720 with 2 Axes>"
      ]
     },
     "metadata": {
      "needs_background": "light"
     },
     "output_type": "display_data"
    }
   ],
   "source": [
    "# print confusion matrix\n",
    "data = {'y_Actual' : y_test,\n",
    "       'y_Predicted': y_pred}\n",
    "cm_df = pd.DataFrame(data, columns=['y_Actual','y_Predicted'])\n",
    "confusion_matrix = pd.crosstab(cm_df['y_Actual'], cm_df['y_Predicted'], rownames=['Actual'], colnames=['Predicted'])\n",
    "\n",
    "plt.figure(figsize=(20,10))\n",
    "sns.heatmap(confusion_matrix, annot=True)"
   ]
  },
  {
   "cell_type": "code",
   "execution_count": 75,
   "id": "ee83cd5a",
   "metadata": {},
   "outputs": [
    {
     "name": "stdout",
     "output_type": "stream",
     "text": [
      "                 precision    recall  f1-score   support\n",
      "\n",
      "       Adoption       0.72      0.67      0.69      7886\n",
      "           Died       0.00      0.00      0.00         0\n",
      "     Euthanasia       0.00      0.00      0.00         0\n",
      "        Missing       0.00      0.00      0.00         0\n",
      "Return to Owner       0.72      0.40      0.51      6525\n",
      "       Transfer       0.39      0.64      0.48      3044\n",
      "\n",
      "       accuracy                           0.56     17455\n",
      "      macro avg       0.31      0.28      0.28     17455\n",
      "   weighted avg       0.66      0.56      0.59     17455\n",
      "\n"
     ]
    },
    {
     "name": "stderr",
     "output_type": "stream",
     "text": [
      "C:\\Users\\bweir\\anaconda3\\envs\\mlenv\\lib\\site-packages\\sklearn\\metrics\\_classification.py:1248: UndefinedMetricWarning: Recall and F-score are ill-defined and being set to 0.0 in labels with no true samples. Use `zero_division` parameter to control this behavior.\n",
      "  _warn_prf(average, modifier, msg_start, len(result))\n",
      "C:\\Users\\bweir\\anaconda3\\envs\\mlenv\\lib\\site-packages\\sklearn\\metrics\\_classification.py:1248: UndefinedMetricWarning: Recall and F-score are ill-defined and being set to 0.0 in labels with no true samples. Use `zero_division` parameter to control this behavior.\n",
      "  _warn_prf(average, modifier, msg_start, len(result))\n",
      "C:\\Users\\bweir\\anaconda3\\envs\\mlenv\\lib\\site-packages\\sklearn\\metrics\\_classification.py:1248: UndefinedMetricWarning: Recall and F-score are ill-defined and being set to 0.0 in labels with no true samples. Use `zero_division` parameter to control this behavior.\n",
      "  _warn_prf(average, modifier, msg_start, len(result))\n"
     ]
    }
   ],
   "source": [
    "# print classification report\n",
    "print(classification_report(y_pred, y_test, target_names=['Adoption', 'Died', 'Euthanasia', 'Missing', 'Return to Owner', 'Transfer']))"
   ]
  },
  {
   "cell_type": "markdown",
   "id": "27687e2c",
   "metadata": {},
   "source": [
    "## Gradient Boosting"
   ]
  },
  {
   "cell_type": "code",
   "execution_count": 52,
   "id": "435a1452",
   "metadata": {},
   "outputs": [],
   "source": [
    "# create model instance\n",
    "model = GradientBoostingClassifier()"
   ]
  },
  {
   "cell_type": "code",
   "execution_count": 53,
   "id": "acb169ad",
   "metadata": {},
   "outputs": [
    {
     "data": {
      "text/plain": [
       "GradientBoostingClassifier()"
      ]
     },
     "execution_count": 53,
     "metadata": {},
     "output_type": "execute_result"
    }
   ],
   "source": [
    "# fit model\n",
    "model.fit(X_train, y_train)"
   ]
  },
  {
   "cell_type": "markdown",
   "id": "da2652dd",
   "metadata": {},
   "source": [
    "### Prediction"
   ]
  },
  {
   "cell_type": "code",
   "execution_count": 54,
   "id": "58f887b3",
   "metadata": {},
   "outputs": [
    {
     "data": {
      "text/html": [
       "<div>\n",
       "<style scoped>\n",
       "    .dataframe tbody tr th:only-of-type {\n",
       "        vertical-align: middle;\n",
       "    }\n",
       "\n",
       "    .dataframe tbody tr th {\n",
       "        vertical-align: top;\n",
       "    }\n",
       "\n",
       "    .dataframe thead th {\n",
       "        text-align: right;\n",
       "    }\n",
       "</style>\n",
       "<table border=\"1\" class=\"dataframe\">\n",
       "  <thead>\n",
       "    <tr style=\"text-align: right;\">\n",
       "      <th></th>\n",
       "      <th>Prediction</th>\n",
       "      <th>Actual</th>\n",
       "    </tr>\n",
       "  </thead>\n",
       "  <tbody>\n",
       "    <tr>\n",
       "      <th>0</th>\n",
       "      <td>4</td>\n",
       "      <td>4</td>\n",
       "    </tr>\n",
       "    <tr>\n",
       "      <th>1</th>\n",
       "      <td>5</td>\n",
       "      <td>5</td>\n",
       "    </tr>\n",
       "    <tr>\n",
       "      <th>2</th>\n",
       "      <td>0</td>\n",
       "      <td>0</td>\n",
       "    </tr>\n",
       "    <tr>\n",
       "      <th>3</th>\n",
       "      <td>5</td>\n",
       "      <td>5</td>\n",
       "    </tr>\n",
       "    <tr>\n",
       "      <th>4</th>\n",
       "      <td>0</td>\n",
       "      <td>0</td>\n",
       "    </tr>\n",
       "  </tbody>\n",
       "</table>\n",
       "</div>"
      ],
      "text/plain": [
       "   Prediction  Actual\n",
       "0           4       4\n",
       "1           5       5\n",
       "2           0       0\n",
       "3           5       5\n",
       "4           0       0"
      ]
     },
     "execution_count": 54,
     "metadata": {},
     "output_type": "execute_result"
    }
   ],
   "source": [
    "# Predict and view results\n",
    "y_pred = model.predict(X_test)\n",
    "results = pd.DataFrame({\n",
    "   \"Prediction\": y_pred,\n",
    "   \"Actual\": y_test\n",
    "}).reset_index(drop=True)\n",
    "results.head()"
   ]
  },
  {
   "cell_type": "markdown",
   "id": "128dcfa6",
   "metadata": {},
   "source": [
    "### Evaluation "
   ]
  },
  {
   "cell_type": "code",
   "execution_count": 55,
   "id": "3f20fd4d",
   "metadata": {},
   "outputs": [
    {
     "data": {
      "text/plain": [
       "<AxesSubplot:xlabel='Predicted', ylabel='Actual'>"
      ]
     },
     "execution_count": 55,
     "metadata": {},
     "output_type": "execute_result"
    },
    {
     "data": {
      "image/png": "[encoded data removed]",
      "text/plain": [
       "<Figure size 1440x720 with 2 Axes>"
      ]
     },
     "metadata": {
      "needs_background": "light"
     },
     "output_type": "display_data"
    }
   ],
   "source": [
    "# print confusion matrix\n",
    "data = {'y_Actual' : y_test,\n",
    "       'y_Predicted': y_pred}\n",
    "cm_df = pd.DataFrame(data, columns=['y_Actual','y_Predicted'])\n",
    "confusion_matrix = pd.crosstab(cm_df['y_Actual'], cm_df['y_Predicted'], rownames=['Actual'], colnames=['Predicted'])\n",
    "\n",
    "plt.figure(figsize=(20,10))\n",
    "sns.heatmap(confusion_matrix, annot=True)"
   ]
  },
  {
   "cell_type": "code",
   "execution_count": 56,
   "id": "d29b9571",
   "metadata": {},
   "outputs": [
    {
     "name": "stdout",
     "output_type": "stream",
     "text": [
      "                 precision    recall  f1-score   support\n",
      "\n",
      "       Adoption       0.91      0.72      0.80      9246\n",
      "           Died       0.03      0.55      0.06        11\n",
      "     Euthanasia       0.61      0.85      0.71      1013\n",
      "        Missing       0.00      0.00      0.00         1\n",
      "Return to Owner       0.71      0.83      0.76      3060\n",
      "       Transfer       0.62      0.75      0.68      4124\n",
      "\n",
      "       accuracy                           0.75     17455\n",
      "      macro avg       0.48      0.62      0.50     17455\n",
      "   weighted avg       0.79      0.75      0.76     17455\n",
      "\n"
     ]
    }
   ],
   "source": [
    "# print classification report\n",
    "print(classification_report(y_pred, y_test, target_names=['Adoption', 'Died', 'Euthanasia', 'Missing', 'Return to Owner', 'Transfer']))"
   ]
  },
  {
   "cell_type": "code",
   "execution_count": 57,
   "id": "e1ce3643",
   "metadata": {},
   "outputs": [
    {
     "data": {
      "text/plain": [
       "(array([0, 1, 2, 3, 4, 5, 6, 7, 8, 9]),\n",
       " [Text(0, 0, 'length_of_stay'),\n",
       "  Text(1, 0, 'fixed_changed'),\n",
       "  Text(2, 0, 'Intake_Type_Owner Surrender'),\n",
       "  Text(3, 0, 'Intake_Type_Wildlife'),\n",
       "  Text(4, 0, 'Animal_Type_intake_Dog'),\n",
       "  Text(5, 0, 'Intake_Type_Public Assist'),\n",
       "  Text(6, 0, 'Sex_upon_Outcome_Intact Female'),\n",
       "  Text(7, 0, 'Sex_upon_Outcome_Intact Male'),\n",
       "  Text(8, 0, 'Animal_Type_intake_Cat'),\n",
       "  Text(9, 0, 'IntakeCondition_Medical')])"
      ]
     },
     "execution_count": 57,
     "metadata": {},
     "output_type": "execute_result"
    },
    {
     "data": {
      "image/png": "[encoded data removed]",
      "text/plain": [
       "<Figure size 864x360 with 1 Axes>"
      ]
     },
     "metadata": {
      "needs_background": "light"
     },
     "output_type": "display_data"
    }
   ],
   "source": [
    "feat_imp = pd.Series(model.feature_importances_, index=X.columns)\n",
    "feat_imp.nlargest(10).plot(kind='bar', figsize=(12,5), cmap='Dark2', edgecolor='black', title='Feature Importance')\n",
    "plt.xticks(rotation=65)"
   ]
  },
  {
   "cell_type": "markdown",
   "id": "c6011e59",
   "metadata": {},
   "source": [
    "## Decision Tree"
   ]
  },
  {
   "cell_type": "code",
   "execution_count": 58,
   "id": "cb9b09f4",
   "metadata": {},
   "outputs": [],
   "source": [
    "# create model instance\n",
    "model = DecisionTreeClassifier()"
   ]
  },
  {
   "cell_type": "code",
   "execution_count": 59,
   "id": "8d75dec1",
   "metadata": {},
   "outputs": [
    {
     "data": {
      "text/plain": [
       "DecisionTreeClassifier()"
      ]
     },
     "execution_count": 59,
     "metadata": {},
     "output_type": "execute_result"
    }
   ],
   "source": [
    "# fit model\n",
    "model.fit(X_train, y_train)"
   ]
  },
  {
   "cell_type": "markdown",
   "id": "768c7f5a",
   "metadata": {},
   "source": [
    "### Prediction"
   ]
  },
  {
   "cell_type": "code",
   "execution_count": 60,
   "id": "a7ed64ac",
   "metadata": {},
   "outputs": [
    {
     "data": {
      "text/html": [
       "<div>\n",
       "<style scoped>\n",
       "    .dataframe tbody tr th:only-of-type {\n",
       "        vertical-align: middle;\n",
       "    }\n",
       "\n",
       "    .dataframe tbody tr th {\n",
       "        vertical-align: top;\n",
       "    }\n",
       "\n",
       "    .dataframe thead th {\n",
       "        text-align: right;\n",
       "    }\n",
       "</style>\n",
       "<table border=\"1\" class=\"dataframe\">\n",
       "  <thead>\n",
       "    <tr style=\"text-align: right;\">\n",
       "      <th></th>\n",
       "      <th>Prediction</th>\n",
       "      <th>Actual</th>\n",
       "    </tr>\n",
       "  </thead>\n",
       "  <tbody>\n",
       "    <tr>\n",
       "      <th>0</th>\n",
       "      <td>4</td>\n",
       "      <td>4</td>\n",
       "    </tr>\n",
       "    <tr>\n",
       "      <th>1</th>\n",
       "      <td>5</td>\n",
       "      <td>5</td>\n",
       "    </tr>\n",
       "    <tr>\n",
       "      <th>2</th>\n",
       "      <td>0</td>\n",
       "      <td>0</td>\n",
       "    </tr>\n",
       "    <tr>\n",
       "      <th>3</th>\n",
       "      <td>5</td>\n",
       "      <td>5</td>\n",
       "    </tr>\n",
       "    <tr>\n",
       "      <th>4</th>\n",
       "      <td>0</td>\n",
       "      <td>0</td>\n",
       "    </tr>\n",
       "  </tbody>\n",
       "</table>\n",
       "</div>"
      ],
      "text/plain": [
       "   Prediction  Actual\n",
       "0           4       4\n",
       "1           5       5\n",
       "2           0       0\n",
       "3           5       5\n",
       "4           0       0"
      ]
     },
     "execution_count": 60,
     "metadata": {},
     "output_type": "execute_result"
    }
   ],
   "source": [
    "# Predict and view results\n",
    "y_pred = model.predict(X_test)\n",
    "results = pd.DataFrame({\n",
    "   \"Prediction\": y_pred,\n",
    "   \"Actual\": y_test\n",
    "}).reset_index(drop=True)\n",
    "results.head()"
   ]
  },
  {
   "cell_type": "markdown",
   "id": "62b8d032",
   "metadata": {},
   "source": [
    "### Evaluation"
   ]
  },
  {
   "cell_type": "code",
   "execution_count": 61,
   "id": "6bc92a67",
   "metadata": {},
   "outputs": [
    {
     "data": {
      "text/plain": [
       "<AxesSubplot:xlabel='Predicted', ylabel='Actual'>"
      ]
     },
     "execution_count": 61,
     "metadata": {},
     "output_type": "execute_result"
    },
    {
     "data": {
      "image/png": "[encoded data removed]",
      "text/plain": [
       "<Figure size 1440x720 with 2 Axes>"
      ]
     },
     "metadata": {
      "needs_background": "light"
     },
     "output_type": "display_data"
    }
   ],
   "source": [
    "# print confusion matrix\n",
    "data = {'y_Actual' : y_test,\n",
    "       'y_Predicted': y_pred}\n",
    "cm_df = pd.DataFrame(data, columns=['y_Actual','y_Predicted'])\n",
    "confusion_matrix = pd.crosstab(cm_df['y_Actual'], cm_df['y_Predicted'], rownames=['Actual'], colnames=['Predicted'])\n",
    "\n",
    "plt.figure(figsize=(20,10))\n",
    "sns.heatmap(confusion_matrix, annot=True)"
   ]
  },
  {
   "cell_type": "code",
   "execution_count": 62,
   "id": "858ba8ba",
   "metadata": {},
   "outputs": [
    {
     "name": "stdout",
     "output_type": "stream",
     "text": [
      "                 precision    recall  f1-score   support\n",
      "\n",
      "       Adoption       0.74      0.73      0.73      7447\n",
      "           Died       0.20      0.21      0.20       183\n",
      "     Euthanasia       0.62      0.62      0.62      1421\n",
      "        Missing       0.00      0.00      0.00        11\n",
      "Return to Owner       0.69      0.70      0.69      3506\n",
      "       Transfer       0.62      0.63      0.63      4887\n",
      "\n",
      "       accuracy                           0.68     17455\n",
      "      macro avg       0.48      0.48      0.48     17455\n",
      "   weighted avg       0.68      0.68      0.68     17455\n",
      "\n"
     ]
    }
   ],
   "source": [
    "# print classification report\n",
    "print(classification_report(y_pred, y_test, target_names=['Adoption', 'Died', 'Euthanasia', 'Missing', 'Return to Owner', 'Transfer']))"
   ]
  },
  {
   "cell_type": "code",
   "execution_count": null,
   "id": "cba111ca",
   "metadata": {},
   "outputs": [],
   "source": []
  }
 ],
 "metadata": {
  "kernelspec": {
   "display_name": "mlenv",
   "language": "python",
   "name": "mlenv"
  },
  "language_info": {
   "codemirror_mode": {
    "name": "ipython",
    "version": 3
   },
   "file_extension": ".py",
   "mimetype": "text/x-python",
   "name": "python",
   "nbconvert_exporter": "python",
   "pygments_lexer": "ipython3",
   "version": "3.7.10"
  }
 },
 "nbformat": 4,
 "nbformat_minor": 5
}
