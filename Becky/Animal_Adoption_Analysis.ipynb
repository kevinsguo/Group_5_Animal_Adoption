{
 "cells": [
  {
   "cell_type": "code",
   "execution_count": 95,
   "id": "bb7b5404",
   "metadata": {},
   "outputs": [],
   "source": [
    "import pandas as pd\n",
    "import re\n",
    "\n",
    "pd.set_option('display.max_columns', None)"
   ]
  },
  {
   "cell_type": "code",
   "execution_count": 96,
   "id": "da5a6304",
   "metadata": {},
   "outputs": [],
   "source": [
    "df = pd.read_csv('all_records.csv')"
   ]
  },
  {
   "cell_type": "code",
   "execution_count": 97,
   "id": "b200a7e4",
   "metadata": {},
   "outputs": [
    {
     "data": {
      "text/html": [
       "<div>\n",
       "<style scoped>\n",
       "    .dataframe tbody tr th:only-of-type {\n",
       "        vertical-align: middle;\n",
       "    }\n",
       "\n",
       "    .dataframe tbody tr th {\n",
       "        vertical-align: top;\n",
       "    }\n",
       "\n",
       "    .dataframe thead th {\n",
       "        text-align: right;\n",
       "    }\n",
       "</style>\n",
       "<table border=\"1\" class=\"dataframe\">\n",
       "  <thead>\n",
       "    <tr style=\"text-align: right;\">\n",
       "      <th></th>\n",
       "      <th>Unnamed: 0</th>\n",
       "      <th>Animal ID</th>\n",
       "      <th>Name_intake</th>\n",
       "      <th>DateTime_intake</th>\n",
       "      <th>MonthYear_intake</th>\n",
       "      <th>Found_Location</th>\n",
       "      <th>Intake_Type</th>\n",
       "      <th>IntakeCondition</th>\n",
       "      <th>Animal_Type_intake</th>\n",
       "      <th>Sex</th>\n",
       "      <th>Age</th>\n",
       "      <th>Breed_intake</th>\n",
       "      <th>Color_intake</th>\n",
       "      <th>Name_outcome</th>\n",
       "      <th>DateTime_outcome</th>\n",
       "      <th>MonthYear_outcome</th>\n",
       "      <th>Outcome_Type</th>\n",
       "      <th>Outcome_Subtype</th>\n",
       "      <th>Sex_upon_Outcome</th>\n",
       "      <th>Age_upon_Outcome</th>\n",
       "      <th>gender_intake</th>\n",
       "      <th>gender_outcome</th>\n",
       "      <th>fixed_intake</th>\n",
       "      <th>fixed_outcome</th>\n",
       "      <th>fixed_changed</th>\n",
       "      <th>Age_Bucket</th>\n",
       "      <th>retriever</th>\n",
       "      <th>shepherd</th>\n",
       "      <th>beagle</th>\n",
       "      <th>terrier</th>\n",
       "      <th>boxer</th>\n",
       "      <th>poodle</th>\n",
       "      <th>rottweiler</th>\n",
       "      <th>dachshund</th>\n",
       "      <th>chihuahua</th>\n",
       "      <th>pit bull</th>\n",
       "      <th>DateTime_length</th>\n",
       "      <th>Days_length</th>\n",
       "    </tr>\n",
       "  </thead>\n",
       "  <tbody>\n",
       "    <tr>\n",
       "      <th>0</th>\n",
       "      <td>0</td>\n",
       "      <td>A730601</td>\n",
       "      <td>NaN</td>\n",
       "      <td>2016-07-07 12:11:00</td>\n",
       "      <td>07/07/2016 12:11:00 PM</td>\n",
       "      <td>1109 Shady Ln in Austin (TX)</td>\n",
       "      <td>Stray</td>\n",
       "      <td>Normal</td>\n",
       "      <td>Cat</td>\n",
       "      <td>Intact Male</td>\n",
       "      <td>7 months</td>\n",
       "      <td>Domestic Shorthair Mix</td>\n",
       "      <td>Blue Tabby</td>\n",
       "      <td>NaN</td>\n",
       "      <td>2016-07-08 09:00:00</td>\n",
       "      <td>07/08/2016 09:00:00 AM</td>\n",
       "      <td>Transfer</td>\n",
       "      <td>SCRP</td>\n",
       "      <td>Neutered Male</td>\n",
       "      <td>7 months</td>\n",
       "      <td>Male</td>\n",
       "      <td>Male</td>\n",
       "      <td>Intact</td>\n",
       "      <td>Neutered</td>\n",
       "      <td>1</td>\n",
       "      <td>7-12 months</td>\n",
       "      <td>0</td>\n",
       "      <td>0</td>\n",
       "      <td>0</td>\n",
       "      <td>0</td>\n",
       "      <td>0</td>\n",
       "      <td>0</td>\n",
       "      <td>0</td>\n",
       "      <td>0</td>\n",
       "      <td>0</td>\n",
       "      <td>0</td>\n",
       "      <td>0 days 20:49:00.000000000</td>\n",
       "      <td>0-7 days</td>\n",
       "    </tr>\n",
       "    <tr>\n",
       "      <th>1</th>\n",
       "      <td>1</td>\n",
       "      <td>A683644</td>\n",
       "      <td>*Zoey</td>\n",
       "      <td>2014-07-13 11:02:00</td>\n",
       "      <td>07/13/2014 11:02:00 AM</td>\n",
       "      <td>Austin (TX)</td>\n",
       "      <td>Owner Surrender</td>\n",
       "      <td>Nursing</td>\n",
       "      <td>Dog</td>\n",
       "      <td>Intact Female</td>\n",
       "      <td>4 weeks</td>\n",
       "      <td>Border Collie Mix</td>\n",
       "      <td>Brown/White</td>\n",
       "      <td>*Zoey</td>\n",
       "      <td>2014-11-06 10:06:00</td>\n",
       "      <td>11/06/2014 10:06:00 AM</td>\n",
       "      <td>Adoption</td>\n",
       "      <td>Foster</td>\n",
       "      <td>Spayed Female</td>\n",
       "      <td>4 months</td>\n",
       "      <td>Female</td>\n",
       "      <td>Female</td>\n",
       "      <td>Intact</td>\n",
       "      <td>Spayed</td>\n",
       "      <td>1</td>\n",
       "      <td>1-6 weeks</td>\n",
       "      <td>0</td>\n",
       "      <td>0</td>\n",
       "      <td>0</td>\n",
       "      <td>0</td>\n",
       "      <td>0</td>\n",
       "      <td>0</td>\n",
       "      <td>0</td>\n",
       "      <td>0</td>\n",
       "      <td>0</td>\n",
       "      <td>0</td>\n",
       "      <td>115 days 23:04:00.000000000</td>\n",
       "      <td>12 weeks - 6 months</td>\n",
       "    </tr>\n",
       "    <tr>\n",
       "      <th>2</th>\n",
       "      <td>2</td>\n",
       "      <td>A676515</td>\n",
       "      <td>Rico</td>\n",
       "      <td>2014-04-11 08:45:00</td>\n",
       "      <td>04/11/2014 08:45:00 AM</td>\n",
       "      <td>615 E. Wonsley in Austin (TX)</td>\n",
       "      <td>Stray</td>\n",
       "      <td>Normal</td>\n",
       "      <td>Dog</td>\n",
       "      <td>Intact Male</td>\n",
       "      <td>2 months</td>\n",
       "      <td>Pit Bull Mix</td>\n",
       "      <td>White/Brown</td>\n",
       "      <td>Rico</td>\n",
       "      <td>2014-04-14 18:38:00</td>\n",
       "      <td>04/14/2014 06:38:00 PM</td>\n",
       "      <td>Return to Owner</td>\n",
       "      <td>NaN</td>\n",
       "      <td>Neutered Male</td>\n",
       "      <td>3 months</td>\n",
       "      <td>Male</td>\n",
       "      <td>Male</td>\n",
       "      <td>Intact</td>\n",
       "      <td>Neutered</td>\n",
       "      <td>1</td>\n",
       "      <td>1-6 months</td>\n",
       "      <td>0</td>\n",
       "      <td>0</td>\n",
       "      <td>0</td>\n",
       "      <td>0</td>\n",
       "      <td>0</td>\n",
       "      <td>0</td>\n",
       "      <td>0</td>\n",
       "      <td>0</td>\n",
       "      <td>0</td>\n",
       "      <td>1</td>\n",
       "      <td>3 days 09:53:00.000000000</td>\n",
       "      <td>0-7 days</td>\n",
       "    </tr>\n",
       "    <tr>\n",
       "      <th>3</th>\n",
       "      <td>3</td>\n",
       "      <td>A742953</td>\n",
       "      <td>NaN</td>\n",
       "      <td>2017-01-31 13:30:00</td>\n",
       "      <td>01/31/2017 01:30:00 PM</td>\n",
       "      <td>S Hwy 183 And Thompson Lane in Austin (TX)</td>\n",
       "      <td>Stray</td>\n",
       "      <td>Normal</td>\n",
       "      <td>Dog</td>\n",
       "      <td>Intact Male</td>\n",
       "      <td>2 years</td>\n",
       "      <td>Saluki</td>\n",
       "      <td>Sable/Cream</td>\n",
       "      <td>NaN</td>\n",
       "      <td>2017-02-04 14:17:00</td>\n",
       "      <td>02/04/2017 02:17:00 PM</td>\n",
       "      <td>Transfer</td>\n",
       "      <td>Partner</td>\n",
       "      <td>Intact Male</td>\n",
       "      <td>2 years</td>\n",
       "      <td>Male</td>\n",
       "      <td>Male</td>\n",
       "      <td>Intact</td>\n",
       "      <td>Intact</td>\n",
       "      <td>0</td>\n",
       "      <td>1-3 years</td>\n",
       "      <td>0</td>\n",
       "      <td>0</td>\n",
       "      <td>0</td>\n",
       "      <td>0</td>\n",
       "      <td>0</td>\n",
       "      <td>0</td>\n",
       "      <td>0</td>\n",
       "      <td>0</td>\n",
       "      <td>0</td>\n",
       "      <td>0</td>\n",
       "      <td>4 days 00:47:00.000000000</td>\n",
       "      <td>0-7 days</td>\n",
       "    </tr>\n",
       "    <tr>\n",
       "      <th>4</th>\n",
       "      <td>4</td>\n",
       "      <td>A679549</td>\n",
       "      <td>*Gilbert</td>\n",
       "      <td>2014-05-22 15:43:00</td>\n",
       "      <td>05/22/2014 03:43:00 PM</td>\n",
       "      <td>124 W Anderson in Austin (TX)</td>\n",
       "      <td>Stray</td>\n",
       "      <td>Normal</td>\n",
       "      <td>Cat</td>\n",
       "      <td>Intact Male</td>\n",
       "      <td>1 month</td>\n",
       "      <td>Domestic Shorthair Mix</td>\n",
       "      <td>Black/White</td>\n",
       "      <td>*Gilbert</td>\n",
       "      <td>2014-06-16 13:54:00</td>\n",
       "      <td>06/16/2014 01:54:00 PM</td>\n",
       "      <td>Transfer</td>\n",
       "      <td>Partner</td>\n",
       "      <td>Neutered Male</td>\n",
       "      <td>2 months</td>\n",
       "      <td>Male</td>\n",
       "      <td>Male</td>\n",
       "      <td>Intact</td>\n",
       "      <td>Neutered</td>\n",
       "      <td>1</td>\n",
       "      <td>1-6 months</td>\n",
       "      <td>0</td>\n",
       "      <td>0</td>\n",
       "      <td>0</td>\n",
       "      <td>0</td>\n",
       "      <td>0</td>\n",
       "      <td>0</td>\n",
       "      <td>0</td>\n",
       "      <td>0</td>\n",
       "      <td>0</td>\n",
       "      <td>0</td>\n",
       "      <td>24 days 22:11:00.000000000</td>\n",
       "      <td>3-6 weeks</td>\n",
       "    </tr>\n",
       "  </tbody>\n",
       "</table>\n",
       "</div>"
      ],
      "text/plain": [
       "   Unnamed: 0 Animal ID Name_intake      DateTime_intake  \\\n",
       "0           0   A730601         NaN  2016-07-07 12:11:00   \n",
       "1           1   A683644       *Zoey  2014-07-13 11:02:00   \n",
       "2           2   A676515        Rico  2014-04-11 08:45:00   \n",
       "3           3   A742953         NaN  2017-01-31 13:30:00   \n",
       "4           4   A679549    *Gilbert  2014-05-22 15:43:00   \n",
       "\n",
       "         MonthYear_intake                              Found_Location  \\\n",
       "0  07/07/2016 12:11:00 PM                1109 Shady Ln in Austin (TX)   \n",
       "1  07/13/2014 11:02:00 AM                                 Austin (TX)   \n",
       "2  04/11/2014 08:45:00 AM               615 E. Wonsley in Austin (TX)   \n",
       "3  01/31/2017 01:30:00 PM  S Hwy 183 And Thompson Lane in Austin (TX)   \n",
       "4  05/22/2014 03:43:00 PM               124 W Anderson in Austin (TX)   \n",
       "\n",
       "       Intake_Type IntakeCondition Animal_Type_intake            Sex  \\\n",
       "0            Stray          Normal                Cat    Intact Male   \n",
       "1  Owner Surrender         Nursing                Dog  Intact Female   \n",
       "2            Stray          Normal                Dog    Intact Male   \n",
       "3            Stray          Normal                Dog    Intact Male   \n",
       "4            Stray          Normal                Cat    Intact Male   \n",
       "\n",
       "        Age            Breed_intake Color_intake Name_outcome  \\\n",
       "0  7 months  Domestic Shorthair Mix   Blue Tabby          NaN   \n",
       "1   4 weeks       Border Collie Mix  Brown/White        *Zoey   \n",
       "2  2 months            Pit Bull Mix  White/Brown         Rico   \n",
       "3   2 years                  Saluki  Sable/Cream          NaN   \n",
       "4   1 month  Domestic Shorthair Mix  Black/White     *Gilbert   \n",
       "\n",
       "      DateTime_outcome       MonthYear_outcome     Outcome_Type  \\\n",
       "0  2016-07-08 09:00:00  07/08/2016 09:00:00 AM         Transfer   \n",
       "1  2014-11-06 10:06:00  11/06/2014 10:06:00 AM         Adoption   \n",
       "2  2014-04-14 18:38:00  04/14/2014 06:38:00 PM  Return to Owner   \n",
       "3  2017-02-04 14:17:00  02/04/2017 02:17:00 PM         Transfer   \n",
       "4  2014-06-16 13:54:00  06/16/2014 01:54:00 PM         Transfer   \n",
       "\n",
       "  Outcome_Subtype Sex_upon_Outcome Age_upon_Outcome gender_intake  \\\n",
       "0            SCRP    Neutered Male         7 months          Male   \n",
       "1          Foster    Spayed Female         4 months        Female   \n",
       "2             NaN    Neutered Male         3 months          Male   \n",
       "3         Partner      Intact Male          2 years          Male   \n",
       "4         Partner    Neutered Male         2 months          Male   \n",
       "\n",
       "  gender_outcome fixed_intake fixed_outcome  fixed_changed   Age_Bucket  \\\n",
       "0           Male       Intact      Neutered              1  7-12 months   \n",
       "1         Female       Intact        Spayed              1    1-6 weeks   \n",
       "2           Male       Intact      Neutered              1   1-6 months   \n",
       "3           Male       Intact        Intact              0    1-3 years   \n",
       "4           Male       Intact      Neutered              1   1-6 months   \n",
       "\n",
       "   retriever  shepherd  beagle  terrier  boxer  poodle  rottweiler  dachshund  \\\n",
       "0          0         0       0        0      0       0           0          0   \n",
       "1          0         0       0        0      0       0           0          0   \n",
       "2          0         0       0        0      0       0           0          0   \n",
       "3          0         0       0        0      0       0           0          0   \n",
       "4          0         0       0        0      0       0           0          0   \n",
       "\n",
       "   chihuahua  pit bull              DateTime_length          Days_length  \n",
       "0          0         0    0 days 20:49:00.000000000             0-7 days  \n",
       "1          0         0  115 days 23:04:00.000000000  12 weeks - 6 months  \n",
       "2          0         1    3 days 09:53:00.000000000             0-7 days  \n",
       "3          0         0    4 days 00:47:00.000000000             0-7 days  \n",
       "4          0         0   24 days 22:11:00.000000000            3-6 weeks  "
      ]
     },
     "execution_count": 97,
     "metadata": {},
     "output_type": "execute_result"
    }
   ],
   "source": [
    "df.head()"
   ]
  },
  {
   "cell_type": "code",
   "execution_count": 98,
   "id": "4c708cf0",
   "metadata": {},
   "outputs": [
    {
     "name": "stdout",
     "output_type": "stream",
     "text": [
      "<class 'pandas.core.frame.DataFrame'>\n",
      "RangeIndex: 76977 entries, 0 to 76976\n",
      "Data columns (total 38 columns):\n",
      " #   Column              Non-Null Count  Dtype \n",
      "---  ------              --------------  ----- \n",
      " 0   Unnamed: 0          76977 non-null  int64 \n",
      " 1   Animal ID           76977 non-null  object\n",
      " 2   Name_intake         57493 non-null  object\n",
      " 3   DateTime_intake     76977 non-null  object\n",
      " 4   MonthYear_intake    76977 non-null  object\n",
      " 5   Found_Location      76977 non-null  object\n",
      " 6   Intake_Type         76977 non-null  object\n",
      " 7   IntakeCondition     76977 non-null  object\n",
      " 8   Animal_Type_intake  76977 non-null  object\n",
      " 9   Sex                 76976 non-null  object\n",
      " 10  Age                 76977 non-null  object\n",
      " 11  Breed_intake        76977 non-null  object\n",
      " 12  Color_intake        76977 non-null  object\n",
      " 13  Name_outcome        57493 non-null  object\n",
      " 14  DateTime_outcome    76977 non-null  object\n",
      " 15  MonthYear_outcome   76977 non-null  object\n",
      " 16  Outcome_Type        76970 non-null  object\n",
      " 17  Outcome_Subtype     31723 non-null  object\n",
      " 18  Sex_upon_Outcome    76973 non-null  object\n",
      " 19  Age_upon_Outcome    76956 non-null  object\n",
      " 20  gender_intake       71369 non-null  object\n",
      " 21  gender_outcome      71366 non-null  object\n",
      " 22  fixed_intake        76976 non-null  object\n",
      " 23  fixed_outcome       76973 non-null  object\n",
      " 24  fixed_changed       76977 non-null  int64 \n",
      " 25  Age_Bucket          76977 non-null  object\n",
      " 26  retriever           76977 non-null  int64 \n",
      " 27  shepherd            76977 non-null  int64 \n",
      " 28  beagle              76977 non-null  int64 \n",
      " 29  terrier             76977 non-null  int64 \n",
      " 30  boxer               76977 non-null  int64 \n",
      " 31  poodle              76977 non-null  int64 \n",
      " 32  rottweiler          76977 non-null  int64 \n",
      " 33  dachshund           76977 non-null  int64 \n",
      " 34  chihuahua           76977 non-null  int64 \n",
      " 35  pit bull            76977 non-null  int64 \n",
      " 36  DateTime_length     76977 non-null  object\n",
      " 37  Days_length         69577 non-null  object\n",
      "dtypes: int64(12), object(26)\n",
      "memory usage: 22.3+ MB\n"
     ]
    }
   ],
   "source": [
    "# Dataframe info\n",
    "df.info()"
   ]
  },
  {
   "cell_type": "code",
   "execution_count": 99,
   "id": "d1d8e5fc",
   "metadata": {},
   "outputs": [
    {
     "data": {
      "text/plain": [
       "Unnamed: 0                0\n",
       "Animal ID                 0\n",
       "Name_intake           19484\n",
       "DateTime_intake           0\n",
       "MonthYear_intake          0\n",
       "Found_Location            0\n",
       "Intake_Type               0\n",
       "IntakeCondition           0\n",
       "Animal_Type_intake        0\n",
       "Sex                       1\n",
       "Age                       0\n",
       "Breed_intake              0\n",
       "Color_intake              0\n",
       "Name_outcome          19484\n",
       "DateTime_outcome          0\n",
       "MonthYear_outcome         0\n",
       "Outcome_Type              7\n",
       "Outcome_Subtype       45254\n",
       "Sex_upon_Outcome          4\n",
       "Age_upon_Outcome         21\n",
       "gender_intake          5608\n",
       "gender_outcome         5611\n",
       "fixed_intake              1\n",
       "fixed_outcome             4\n",
       "fixed_changed             0\n",
       "Age_Bucket                0\n",
       "retriever                 0\n",
       "shepherd                  0\n",
       "beagle                    0\n",
       "terrier                   0\n",
       "boxer                     0\n",
       "poodle                    0\n",
       "rottweiler                0\n",
       "dachshund                 0\n",
       "chihuahua                 0\n",
       "pit bull                  0\n",
       "DateTime_length           0\n",
       "Days_length            7400\n",
       "dtype: int64"
      ]
     },
     "execution_count": 99,
     "metadata": {},
     "output_type": "execute_result"
    }
   ],
   "source": [
    "# Dataframe null values\n",
    "df.isnull().sum()"
   ]
  },
  {
   "cell_type": "code",
   "execution_count": 100,
   "id": "74ed12dd",
   "metadata": {},
   "outputs": [],
   "source": [
    "# Drop duplicate and null value columns\n",
    "df.drop(['Unnamed: 0', 'MonthYear_intake', 'MonthYear_outcome','Outcome_Subtype', 'Name_outcome', 'Days_length'], \n",
    "        axis=1, inplace=True)"
   ]
  },
  {
   "cell_type": "code",
   "execution_count": 101,
   "id": "21ba04ee",
   "metadata": {},
   "outputs": [
    {
     "data": {
      "text/plain": [
       "Yes    57493\n",
       "No     19484\n",
       "Name: Name_intake, dtype: int64"
      ]
     },
     "execution_count": 101,
     "metadata": {},
     "output_type": "execute_result"
    }
   ],
   "source": [
    "# Change Name_Intake to Yes or No\n",
    "df.Name_intake = df.Name_intake.apply(lambda x: 'No' if pd.isnull(x) else 'Yes')\n",
    "df.Name_intake.value_counts()"
   ]
  },
  {
   "cell_type": "code",
   "execution_count": 102,
   "id": "81c989e6",
   "metadata": {},
   "outputs": [
    {
     "data": {
      "text/plain": [
       "Animal ID             0\n",
       "Name_intake           0\n",
       "DateTime_intake       0\n",
       "Found_Location        0\n",
       "Intake_Type           0\n",
       "IntakeCondition       0\n",
       "Animal_Type_intake    0\n",
       "Sex                   0\n",
       "Age                   0\n",
       "Breed_intake          0\n",
       "Color_intake          0\n",
       "DateTime_outcome      0\n",
       "Outcome_Type          0\n",
       "Sex_upon_Outcome      0\n",
       "Age_upon_Outcome      0\n",
       "gender_intake         0\n",
       "gender_outcome        0\n",
       "fixed_intake          0\n",
       "fixed_outcome         0\n",
       "fixed_changed         0\n",
       "Age_Bucket            0\n",
       "retriever             0\n",
       "shepherd              0\n",
       "beagle                0\n",
       "terrier               0\n",
       "boxer                 0\n",
       "poodle                0\n",
       "rottweiler            0\n",
       "dachshund             0\n",
       "chihuahua             0\n",
       "pit bull              0\n",
       "DateTime_length       0\n",
       "dtype: int64"
      ]
     },
     "execution_count": 102,
     "metadata": {},
     "output_type": "execute_result"
    }
   ],
   "source": [
    "# Drop rows with Null values\n",
    "df = df.dropna()\n",
    "df.isnull().sum()"
   ]
  },
  {
   "cell_type": "code",
   "execution_count": 103,
   "id": "0afb184b",
   "metadata": {},
   "outputs": [
    {
     "data": {
      "text/plain": [
       "Adoption           32360\n",
       "Transfer           18375\n",
       "Return to Owner    17356\n",
       "Euthanasia          2768\n",
       "Died                 390\n",
       "Missing               50\n",
       "Disposal              34\n",
       "Rto-Adopt             23\n",
       "Relocate               1\n",
       "Name: Outcome_Type, dtype: int64"
      ]
     },
     "execution_count": 103,
     "metadata": {},
     "output_type": "execute_result"
    }
   ],
   "source": [
    "df.Outcome_Type.value_counts()"
   ]
  },
  {
   "cell_type": "code",
   "execution_count": 104,
   "id": "65c47188",
   "metadata": {},
   "outputs": [
    {
     "data": {
      "text/plain": [
       "Adoption           32360\n",
       "Transfer           18375\n",
       "Return to Owner    17356\n",
       "Euthanasia          2768\n",
       "Died                 424\n",
       "Missing               50\n",
       "Rto-Adopt             23\n",
       "Relocate               1\n",
       "Name: Outcome_Type, dtype: int64"
      ]
     },
     "execution_count": 104,
     "metadata": {},
     "output_type": "execute_result"
    }
   ],
   "source": [
    "# Combine Died & Disposal Outcomes\n",
    "df.loc[df.Outcome_Type == 'Disposal', 'Outcome_Type'] = 'Died'\n",
    "df.Outcome_Type.value_counts()"
   ]
  },
  {
   "cell_type": "code",
   "execution_count": 105,
   "id": "1c8d291e",
   "metadata": {},
   "outputs": [
    {
     "data": {
      "text/plain": [
       "Adoption           32360\n",
       "Transfer           18376\n",
       "Return to Owner    17356\n",
       "Euthanasia          2768\n",
       "Died                 424\n",
       "Missing               50\n",
       "Rto-Adopt             23\n",
       "Name: Outcome_Type, dtype: int64"
      ]
     },
     "execution_count": 105,
     "metadata": {},
     "output_type": "execute_result"
    }
   ],
   "source": [
    "# Combine Transfer & Relocate Outcomes\n",
    "df.loc[df.Outcome_Type == 'Relocate', 'Outcome_Type'] = 'Transfer'\n",
    "df.Outcome_Type.value_counts()"
   ]
  },
  {
   "cell_type": "code",
   "execution_count": 106,
   "id": "dc005556",
   "metadata": {},
   "outputs": [
    {
     "data": {
      "text/plain": [
       "Adoption           32360\n",
       "Transfer           18376\n",
       "Return to Owner    17356\n",
       "Euthanasia          2768\n",
       "Died                 424\n",
       "Name: Outcome_Type, dtype: int64"
      ]
     },
     "execution_count": 106,
     "metadata": {},
     "output_type": "execute_result"
    }
   ],
   "source": [
    "# Drop Rto-Adopt and Missing Outcomes\n",
    "df.drop(df[(df.Outcome_Type == 'Rto-Adopt') | (df.Outcome_Type == 'Missing')].index, inplace=True)\n",
    "df.Outcome_Type.value_counts()"
   ]
  },
  {
   "cell_type": "code",
   "execution_count": 107,
   "id": "06dc5745",
   "metadata": {},
   "outputs": [
    {
     "name": "stdout",
     "output_type": "stream",
     "text": [
      "<class 'pandas.core.frame.DataFrame'>\n",
      "Int64Index: 71284 entries, 0 to 76976\n",
      "Data columns (total 32 columns):\n",
      " #   Column              Non-Null Count  Dtype         \n",
      "---  ------              --------------  -----         \n",
      " 0   Animal ID           71284 non-null  object        \n",
      " 1   Name_intake         71284 non-null  object        \n",
      " 2   DateTime_intake     71284 non-null  datetime64[ns]\n",
      " 3   Found_Location      71284 non-null  object        \n",
      " 4   Intake_Type         71284 non-null  object        \n",
      " 5   IntakeCondition     71284 non-null  object        \n",
      " 6   Animal_Type_intake  71284 non-null  object        \n",
      " 7   Sex                 71284 non-null  object        \n",
      " 8   Age                 71284 non-null  object        \n",
      " 9   Breed_intake        71284 non-null  object        \n",
      " 10  Color_intake        71284 non-null  object        \n",
      " 11  DateTime_outcome    71284 non-null  datetime64[ns]\n",
      " 12  Outcome_Type        71284 non-null  object        \n",
      " 13  Sex_upon_Outcome    71284 non-null  object        \n",
      " 14  Age_upon_Outcome    71284 non-null  object        \n",
      " 15  gender_intake       71284 non-null  object        \n",
      " 16  gender_outcome      71284 non-null  object        \n",
      " 17  fixed_intake        71284 non-null  object        \n",
      " 18  fixed_outcome       71284 non-null  object        \n",
      " 19  fixed_changed       71284 non-null  int64         \n",
      " 20  Age_Bucket          71284 non-null  object        \n",
      " 21  retriever           71284 non-null  int64         \n",
      " 22  shepherd            71284 non-null  int64         \n",
      " 23  beagle              71284 non-null  int64         \n",
      " 24  terrier             71284 non-null  int64         \n",
      " 25  boxer               71284 non-null  int64         \n",
      " 26  poodle              71284 non-null  int64         \n",
      " 27  rottweiler          71284 non-null  int64         \n",
      " 28  dachshund           71284 non-null  int64         \n",
      " 29  chihuahua           71284 non-null  int64         \n",
      " 30  pit bull            71284 non-null  int64         \n",
      " 31  DateTime_length     71284 non-null  object        \n",
      "dtypes: datetime64[ns](2), int64(11), object(19)\n",
      "memory usage: 17.9+ MB\n"
     ]
    }
   ],
   "source": [
    "# Update DateTime_intake to datatime datatype\n",
    "df.DateTime_intake = pd.to_datetime(df.DateTime_intake, format='%Y-%m-%d')\n",
    "# Update DateTime_outcome to datatime datatype\n",
    "df.DateTime_outcome = pd.to_datetime(df.DateTime_intake, format='%Y-%m-%d')\n",
    "df.info()"
   ]
  },
  {
   "cell_type": "code",
   "execution_count": 108,
   "id": "1568d59d",
   "metadata": {},
   "outputs": [
    {
     "data": {
      "text/plain": [
       "Normal      64686\n",
       "Injured      2975\n",
       "Sick         1867\n",
       "Nursing      1211\n",
       "Aged          296\n",
       "Other         128\n",
       "Feral          73\n",
       "Pregnant       48\n",
       "Name: IntakeCondition, dtype: int64"
      ]
     },
     "execution_count": 108,
     "metadata": {},
     "output_type": "execute_result"
    }
   ],
   "source": [
    "df.IntakeCondition.value_counts()"
   ]
  },
  {
   "cell_type": "code",
   "execution_count": 109,
   "id": "7aa6d123",
   "metadata": {},
   "outputs": [],
   "source": [
    "# Combine Aged and Feral with Other for IntakeCondition\n",
    "df.loc[(df.IntakeCondition == 'Aged') | (df.IntakeCondition == 'Feral'), 'IntakeCondition'] = 'Other'"
   ]
  },
  {
   "cell_type": "code",
   "execution_count": 110,
   "id": "ff6eebbe",
   "metadata": {},
   "outputs": [],
   "source": [
    "# Combine Injured and Sick for Intake Condition\n",
    "df.loc[(df.IntakeCondition == 'Injured') | (df.IntakeCondition == 'Sick'), 'IntakeCondition'] = 'Medical'"
   ]
  },
  {
   "cell_type": "code",
   "execution_count": 111,
   "id": "5ec220f0",
   "metadata": {},
   "outputs": [
    {
     "data": {
      "text/plain": [
       "Normal       64686\n",
       "Medical       4842\n",
       "Maternity     1259\n",
       "Other          497\n",
       "Name: IntakeCondition, dtype: int64"
      ]
     },
     "execution_count": 111,
     "metadata": {},
     "output_type": "execute_result"
    }
   ],
   "source": [
    "# Combine Pregnant and Nursing for  IntakeCondition\n",
    "df.loc[(df.IntakeCondition == 'Nursing') | (df.IntakeCondition == 'Pregnant'), 'IntakeCondition' ] = 'Maternity'\n",
    "df.IntakeCondition.value_counts()"
   ]
  },
  {
   "cell_type": "code",
   "execution_count": 112,
   "id": "3c9e698a",
   "metadata": {},
   "outputs": [
    {
     "data": {
      "text/plain": [
       "Dog          47884\n",
       "Cat          22815\n",
       "Other          461\n",
       "Bird           118\n",
       "Livestock        6\n",
       "Name: Animal_Type_intake, dtype: int64"
      ]
     },
     "execution_count": 112,
     "metadata": {},
     "output_type": "execute_result"
    }
   ],
   "source": [
    "df.Animal_Type_intake.value_counts()"
   ]
  },
  {
   "cell_type": "code",
   "execution_count": 113,
   "id": "0e3c0ed3",
   "metadata": {},
   "outputs": [
    {
     "data": {
      "text/plain": [
       "Dog      47884\n",
       "Cat      22815\n",
       "Other      585\n",
       "Name: Animal_Type_intake, dtype: int64"
      ]
     },
     "execution_count": 113,
     "metadata": {},
     "output_type": "execute_result"
    }
   ],
   "source": [
    "# Combine Bird and Livestock with Other for Animal_Type_intake\n",
    "df.loc[(df.Animal_Type_intake == 'Bird') | (df.Animal_Type_intake == 'Livestock'), 'Animal_Type_intake'] = 'Other'\n",
    "df.Animal_Type_intake.value_counts()"
   ]
  },
  {
   "cell_type": "code",
   "execution_count": 114,
   "id": "e48e2a3c",
   "metadata": {},
   "outputs": [
    {
     "data": {
      "text/plain": [
       "Intact Male      22323\n",
       "Intact Female    20429\n",
       "Neutered Male    15355\n",
       "Spayed Female    13177\n",
       "Name: Sex, dtype: int64"
      ]
     },
     "execution_count": 114,
     "metadata": {},
     "output_type": "execute_result"
    }
   ],
   "source": [
    "df.Sex.value_counts()"
   ]
  },
  {
   "cell_type": "code",
   "execution_count": 115,
   "id": "8664dc15",
   "metadata": {},
   "outputs": [],
   "source": [
    "df.rename(columns={'Sex': 'Sex_Intake'}, inplace=True)"
   ]
  },
  {
   "cell_type": "code",
   "execution_count": 116,
   "id": "bc4a42aa",
   "metadata": {},
   "outputs": [
    {
     "data": {
      "text/plain": [
       "Neutered Male    29549\n",
       "Spayed Female    25964\n",
       "Intact Male       8129\n",
       "Intact Female     7642\n",
       "Name: Sex_upon_Outcome, dtype: int64"
      ]
     },
     "execution_count": 116,
     "metadata": {},
     "output_type": "execute_result"
    }
   ],
   "source": [
    "df.Sex_upon_Outcome.value_counts()"
   ]
  },
  {
   "cell_type": "code",
   "execution_count": 117,
   "id": "e3c0f9b3",
   "metadata": {},
   "outputs": [
    {
     "data": {
      "text/plain": [
       "Male      37678\n",
       "Female    33606\n",
       "Name: gender_outcome, dtype: int64"
      ]
     },
     "execution_count": 117,
     "metadata": {},
     "output_type": "execute_result"
    }
   ],
   "source": [
    "df.gender_outcome.value_counts()"
   ]
  },
  {
   "cell_type": "code",
   "execution_count": 118,
   "id": "87ef0b02",
   "metadata": {},
   "outputs": [
    {
     "data": {
      "text/plain": [
       "Male      37678\n",
       "Female    33606\n",
       "Name: gender_intake, dtype: int64"
      ]
     },
     "execution_count": 118,
     "metadata": {},
     "output_type": "execute_result"
    }
   ],
   "source": [
    "df.gender_intake.value_counts()"
   ]
  },
  {
   "cell_type": "code",
   "execution_count": 119,
   "id": "a7a0d708",
   "metadata": {},
   "outputs": [],
   "source": [
    "# Drop gender intake and outcome columns as no change and information in Sex columns\n",
    "df.drop(['gender_outcome', 'gender_intake'], axis=1, inplace=True)"
   ]
  },
  {
   "cell_type": "code",
   "execution_count": 120,
   "id": "226ce240",
   "metadata": {},
   "outputs": [
    {
     "data": {
      "text/plain": [
       "1-3 years           30850\n",
       "1-6 months          16581\n",
       "4-6 years            8656\n",
       "7+ years             5432\n",
       "1-6 weeks            5021\n",
       "7-12 months          4015\n",
       "Less than 1 week      729\n",
       "Name: Age_Bucket, dtype: int64"
      ]
     },
     "execution_count": 120,
     "metadata": {},
     "output_type": "execute_result"
    }
   ],
   "source": [
    "df.Age_Bucket.value_counts()"
   ]
  },
  {
   "cell_type": "code",
   "execution_count": 121,
   "id": "14c07838",
   "metadata": {},
   "outputs": [],
   "source": [
    "# Drop Age and Age_upon_Outcome as information in Age_Bucket\n",
    "df.drop(['Age', 'Age_upon_Outcome'], axis=1, inplace=True)"
   ]
  },
  {
   "cell_type": "code",
   "execution_count": 122,
   "id": "81f04eb4",
   "metadata": {},
   "outputs": [],
   "source": [
    "# Drop fixed_intake, fixed_outcome, fixed_change as information in Sex columns\n",
    "df.drop(['fixed_intake', 'fixed_outcome', 'fixed_changed'], axis=1, inplace=True)"
   ]
  },
  {
   "cell_type": "code",
   "execution_count": 123,
   "id": "c4668753",
   "metadata": {},
   "outputs": [
    {
     "name": "stdout",
     "output_type": "stream",
     "text": [
      "<class 'pandas.core.frame.DataFrame'>\n",
      "Int64Index: 71284 entries, 0 to 76976\n",
      "Data columns (total 25 columns):\n",
      " #   Column              Non-Null Count  Dtype         \n",
      "---  ------              --------------  -----         \n",
      " 0   Animal ID           71284 non-null  object        \n",
      " 1   Name_intake         71284 non-null  object        \n",
      " 2   DateTime_intake     71284 non-null  datetime64[ns]\n",
      " 3   Found_Location      71284 non-null  object        \n",
      " 4   Intake_Type         71284 non-null  object        \n",
      " 5   IntakeCondition     71284 non-null  object        \n",
      " 6   Animal_Type_intake  71284 non-null  object        \n",
      " 7   Sex_Intake          71284 non-null  object        \n",
      " 8   Breed_intake        71284 non-null  object        \n",
      " 9   Color_intake        71284 non-null  object        \n",
      " 10  DateTime_outcome    71284 non-null  datetime64[ns]\n",
      " 11  Outcome_Type        71284 non-null  object        \n",
      " 12  Sex_upon_Outcome    71284 non-null  object        \n",
      " 13  Age_Bucket          71284 non-null  object        \n",
      " 14  retriever           71284 non-null  int64         \n",
      " 15  shepherd            71284 non-null  int64         \n",
      " 16  beagle              71284 non-null  int64         \n",
      " 17  terrier             71284 non-null  int64         \n",
      " 18  boxer               71284 non-null  int64         \n",
      " 19  poodle              71284 non-null  int64         \n",
      " 20  rottweiler          71284 non-null  int64         \n",
      " 21  dachshund           71284 non-null  int64         \n",
      " 22  chihuahua           71284 non-null  int64         \n",
      " 23  pit bull            71284 non-null  int64         \n",
      " 24  DateTime_length     71284 non-null  object        \n",
      "dtypes: datetime64[ns](2), int64(10), object(13)\n",
      "memory usage: 14.1+ MB\n"
     ]
    }
   ],
   "source": [
    "df.info()"
   ]
  },
  {
   "cell_type": "markdown",
   "id": "e462638c",
   "metadata": {},
   "source": [
    "### Need to perform regex on\n",
    "- Found_Location\n",
    "- Breed_intake\n",
    "- Color_intake\n"
   ]
  },
  {
   "cell_type": "code",
   "execution_count": null,
   "id": "b2650194",
   "metadata": {},
   "outputs": [],
   "source": []
  }
 ],
 "metadata": {
  "kernelspec": {
   "display_name": "mlenv",
   "language": "python",
   "name": "mlenv"
  },
  "language_info": {
   "codemirror_mode": {
    "name": "ipython",
    "version": 3
   },
   "file_extension": ".py",
   "mimetype": "text/x-python",
   "name": "python",
   "nbconvert_exporter": "python",
   "pygments_lexer": "ipython3",
   "version": "3.7.10"
  }
 },
 "nbformat": 4,
 "nbformat_minor": 5
}
